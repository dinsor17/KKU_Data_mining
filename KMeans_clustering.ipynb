{
  "nbformat": 4,
  "nbformat_minor": 0,
  "metadata": {
    "colab": {
      "name": "KMeans cluster.ipynb",
      "provenance": [],
      "authorship_tag": "ABX9TyPnNimiiV6j7//lCoaLAWfx",
      "include_colab_link": true
    },
    "kernelspec": {
      "name": "python3",
      "display_name": "Python 3"
    }
  },
  "cells": [
    {
      "cell_type": "markdown",
      "metadata": {
        "id": "view-in-github",
        "colab_type": "text"
      },
      "source": [
        "<a href=\"https://colab.research.google.com/github/dinsor17/KKU_Data_mining/blob/master/KMeans_clustering.ipynb\" target=\"_parent\"><img src=\"https://colab.research.google.com/assets/colab-badge.svg\" alt=\"Open In Colab\"/></a>"
      ]
    },
    {
      "cell_type": "markdown",
      "metadata": {
        "id": "1tJ1gEf79CZ-"
      },
      "source": [
        "##Generate Data"
      ]
    },
    {
      "cell_type": "code",
      "metadata": {
        "id": "Sy1C1f4-8D6t"
      },
      "source": [
        "from sklearn.datasets import make_blobs"
      ],
      "execution_count": 60,
      "outputs": []
    },
    {
      "cell_type": "code",
      "metadata": {
        "id": "fnBcu3OU9Z0c"
      },
      "source": [
        "x, y = make_blobs(n_samples=300, centers=3, n_features=2,random_state=6)"
      ],
      "execution_count": 61,
      "outputs": []
    },
    {
      "cell_type": "code",
      "metadata": {
        "id": "ovn0GmJj99BE",
        "outputId": "928dd0de-f98b-4705-9087-763dae85df91",
        "colab": {
          "base_uri": "https://localhost:8080/"
        }
      },
      "source": [
        "x.shape #300แถว 2หลัก"
      ],
      "execution_count": 62,
      "outputs": [
        {
          "output_type": "execute_result",
          "data": {
            "text/plain": [
              "(300, 2)"
            ]
          },
          "metadata": {
            "tags": []
          },
          "execution_count": 62
        }
      ]
    },
    {
      "cell_type": "code",
      "metadata": {
        "id": "-KWEQIz2-S_U",
        "outputId": "dac5c1b2-2637-4bcd-fb03-16ade2c42223",
        "colab": {
          "base_uri": "https://localhost:8080/",
          "height": 283
        }
      },
      "source": [
        "from matplotlib import pyplot as plt \n",
        "plt.scatter(x[:,0],x[:,1])"
      ],
      "execution_count": 63,
      "outputs": [
        {
          "output_type": "execute_result",
          "data": {
            "text/plain": [
              "<matplotlib.collections.PathCollection at 0x7f483820d080>"
            ]
          },
          "metadata": {
            "tags": []
          },
          "execution_count": 63
        },
        {
          "output_type": "display_data",
          "data": {
            "image/png": "[encoded data removed]",
            "text/plain": [
              "<Figure size 432x288 with 1 Axes>"
            ]
          },
          "metadata": {
            "tags": [],
            "needs_background": "light"
          }
        }
      ]
    },
    {
      "cell_type": "markdown",
      "metadata": {
        "id": "USwDOFcp_OMU"
      },
      "source": [
        "##Import"
      ]
    },
    {
      "cell_type": "code",
      "metadata": {
        "id": "HLZ7iEe__R-c"
      },
      "source": [
        "from sklearn.cluster import KMeans"
      ],
      "execution_count": 64,
      "outputs": []
    },
    {
      "cell_type": "markdown",
      "metadata": {
        "id": "oeebRen6_eNl"
      },
      "source": [
        "##Define"
      ]
    },
    {
      "cell_type": "code",
      "metadata": {
        "id": "qoYKwYcC_lGs"
      },
      "source": [
        "KMclust = KMeans(n_clusters=5)"
      ],
      "execution_count": 65,
      "outputs": []
    },
    {
      "cell_type": "markdown",
      "metadata": {
        "id": "YDApeL7-_1Db"
      },
      "source": [
        "##Train"
      ]
    },
    {
      "cell_type": "code",
      "metadata": {
        "id": "9CN2uD4l_5pR",
        "outputId": "93e79a54-6c95-4e37-f367-d23e00be1ace",
        "colab": {
          "base_uri": "https://localhost:8080/"
        }
      },
      "source": [
        "KMclust.fit(x)"
      ],
      "execution_count": 66,
      "outputs": [
        {
          "output_type": "execute_result",
          "data": {
            "text/plain": [
              "KMeans(algorithm='auto', copy_x=True, init='k-means++', max_iter=300,\n",
              "       n_clusters=5, n_init=10, n_jobs=None, precompute_distances='auto',\n",
              "       random_state=None, tol=0.0001, verbose=0)"
            ]
          },
          "metadata": {
            "tags": []
          },
          "execution_count": 66
        }
      ]
    },
    {
      "cell_type": "markdown",
      "metadata": {
        "id": "2tJcuFhqAGlV"
      },
      "source": [
        "##Predict"
      ]
    },
    {
      "cell_type": "code",
      "metadata": {
        "id": "qCkH0Hi3AMal"
      },
      "source": [
        "label = KMclust.predict(x)"
      ],
      "execution_count": null,
      "outputs": []
    },
    {
      "cell_type": "code",
      "metadata": {
        "id": "4rI23E1-AWr0"
      },
      "source": [
        "plt.scatter(x[:,0], x[:,1], c=label)"
      ],
      "execution_count": null,
      "outputs": []
    },
    {
      "cell_type": "markdown",
      "metadata": {
        "id": "C2RJtEJABken"
      },
      "source": [
        "##Color quantization (application of kmea)"
      ]
    },
    {
      "cell_type": "code",
      "metadata": {
        "id": "cUnr8QXPBdVg",
        "outputId": "9fc64d0c-75dc-45b1-cad6-ebf457a1afc9",
        "colab": {
          "base_uri": "https://localhost:8080/"
        }
      },
      "source": [
        "from google.colab import drive\n",
        "drive.mount('/content/drive')\n",
        "\n",
        "path = '/content/drive/My Drive/DWDM_material'"
      ],
      "execution_count": 69,
      "outputs": [
        {
          "output_type": "stream",
          "text": [
            "Drive already mounted at /content/drive; to attempt to forcibly remount, call drive.mount(\"/content/drive\", force_remount=True).\n"
          ],
          "name": "stdout"
        }
      ]
    },
    {
      "cell_type": "code",
      "metadata": {
        "id": "UXkrvN2ADQRd"
      },
      "source": [
        "import cv2\n",
        "import os"
      ],
      "execution_count": 70,
      "outputs": []
    },
    {
      "cell_type": "code",
      "metadata": {
        "id": "CMKtrRaIDmkc"
      },
      "source": [
        "img = cv2.imread(os.path.join(path,'98be141fff52759150148421e0dc11a2.jpg'))"
      ],
      "execution_count": 71,
      "outputs": []
    },
    {
      "cell_type": "code",
      "metadata": {
        "id": "RLyQjly1ElpO",
        "outputId": "99cc8b69-427a-4a28-f272-415a9191bf16",
        "colab": {
          "base_uri": "https://localhost:8080/",
          "height": 287
        }
      },
      "source": [
        "RGB_img = cv2.cvtColor(img, cv2.COLOR_BGR2RGB)\n",
        "plt.imshow(RGB_img)"
      ],
      "execution_count": 72,
      "outputs": [
        {
          "output_type": "execute_result",
          "data": {
            "text/plain": [
              "<matplotlib.image.AxesImage at 0x7f48380178d0>"
            ]
          },
          "metadata": {
            "tags": []
          },
          "execution_count": 72
        },
        {
          "output_type": "display_data",
          "data": {
            "image/png": "[encoded data removed]",
            "text/plain": [
              "<Figure size 432x288 with 1 Axes>"
            ]
          },
          "metadata": {
            "tags": [],
            "needs_background": "light"
          }
        }
      ]
    },
    {
      "cell_type": "code",
      "metadata": {
        "id": "wOW9TXbbGnGV",
        "outputId": "1a3f1cfc-8a80-406a-a7d3-46eb15298abe",
        "colab": {
          "base_uri": "https://localhost:8080/"
        }
      },
      "source": [
        "RGB_img.shape"
      ],
      "execution_count": 73,
      "outputs": [
        {
          "output_type": "execute_result",
          "data": {
            "text/plain": [
              "(900, 632, 3)"
            ]
          },
          "metadata": {
            "tags": []
          },
          "execution_count": 73
        }
      ]
    },
    {
      "cell_type": "markdown",
      "metadata": {
        "id": "HwpwOSMzGtsh"
      },
      "source": [
        "##count unique colors"
      ]
    },
    {
      "cell_type": "code",
      "metadata": {
        "id": "55CGc2biGspc"
      },
      "source": [
        "import numpy as np"
      ],
      "execution_count": 74,
      "outputs": []
    },
    {
      "cell_type": "code",
      "metadata": {
        "id": "quxtya5dG_rd",
        "outputId": "4bedff4d-f92b-4b6d-82a3-32ac2f533d9f",
        "colab": {
          "base_uri": "https://localhost:8080/"
        }
      },
      "source": [
        "np.unique(RGB_img).shape"
      ],
      "execution_count": 75,
      "outputs": [
        {
          "output_type": "execute_result",
          "data": {
            "text/plain": [
              "(256,)"
            ]
          },
          "metadata": {
            "tags": []
          },
          "execution_count": 75
        }
      ]
    },
    {
      "cell_type": "markdown",
      "metadata": {
        "id": "oSYP_W_sHXMz"
      },
      "source": [
        "##Use K-mean to reduce color from 256 color to 8 colors"
      ]
    },
    {
      "cell_type": "code",
      "metadata": {
        "id": "RYF0r4mUHMr1"
      },
      "source": [
        "#Define\n",
        "myQuantize = KMeans(n_clusters=8)"
      ],
      "execution_count": 76,
      "outputs": []
    },
    {
      "cell_type": "code",
      "metadata": {
        "id": "q5GZ3wOkJuv2",
        "outputId": "47efd21b-f4e1-4aee-e7c2-4f5749dc535a",
        "colab": {
          "base_uri": "https://localhost:8080/"
        }
      },
      "source": [
        "img_row = np.reshape(RGB_img,(900*632, 3))\n",
        "img_row"
      ],
      "execution_count": 77,
      "outputs": [
        {
          "output_type": "execute_result",
          "data": {
            "text/plain": [
              "array([[30, 29, 24],\n",
              "       [30, 29, 24],\n",
              "       [30, 29, 24],\n",
              "       ...,\n",
              "       [36, 32, 29],\n",
              "       [35, 31, 28],\n",
              "       [42, 38, 35]], dtype=uint8)"
            ]
          },
          "metadata": {
            "tags": []
          },
          "execution_count": 77
        }
      ]
    },
    {
      "cell_type": "code",
      "metadata": {
        "id": "7qd_bxclINrv",
        "outputId": "46b0dd3f-ac28-415c-e4d1-5f5b26666042",
        "colab": {
          "base_uri": "https://localhost:8080/"
        }
      },
      "source": [
        "#Tranin\n",
        "myQuantize.fit(img_row)"
      ],
      "execution_count": 78,
      "outputs": [
        {
          "output_type": "execute_result",
          "data": {
            "text/plain": [
              "KMeans(algorithm='auto', copy_x=True, init='k-means++', max_iter=300,\n",
              "       n_clusters=8, n_init=10, n_jobs=None, precompute_distances='auto',\n",
              "       random_state=None, tol=0.0001, verbose=0)"
            ]
          },
          "metadata": {
            "tags": []
          },
          "execution_count": 78
        }
      ]
    },
    {
      "cell_type": "code",
      "metadata": {
        "id": "J-dRqWCxLC6W",
        "outputId": "59f5f1d4-8626-4d41-947c-c1efe20e5ce1",
        "colab": {
          "base_uri": "https://localhost:8080/"
        }
      },
      "source": [
        "#Predict\n",
        "res = myQuantize.predict(img_row)\n",
        "res"
      ],
      "execution_count": 79,
      "outputs": [
        {
          "output_type": "execute_result",
          "data": {
            "text/plain": [
              "array([0, 0, 0, ..., 0, 0, 0], dtype=int32)"
            ]
          },
          "metadata": {
            "tags": []
          },
          "execution_count": 79
        }
      ]
    },
    {
      "cell_type": "markdown",
      "metadata": {
        "id": "Om5stm2WMvK5"
      },
      "source": [
        "##Get cluster centers"
      ]
    },
    {
      "cell_type": "code",
      "metadata": {
        "id": "WGh4EL3QM02t",
        "outputId": "b37a591a-de59-4acd-8299-5bbbc844b14e",
        "colab": {
          "base_uri": "https://localhost:8080/"
        }
      },
      "source": [
        "Clus_cen = myQuantize.cluster_centers_\n",
        "Clus_cen"
      ],
      "execution_count": 80,
      "outputs": [
        {
          "output_type": "execute_result",
          "data": {
            "text/plain": [
              "array([[ 47.84976802,  43.23775936,  43.47299875],\n",
              "       [ 98.9342819 ,  94.4433881 ,  90.79159161],\n",
              "       [229.33224816, 213.30276253, 224.47669984],\n",
              "       [130.5369204 , 110.95506394, 122.81970353],\n",
              "       [197.24914766, 155.06083794, 152.67690734],\n",
              "       [134.18474736,  95.02211844,  67.32112279],\n",
              "       [ 73.09180631,  69.47007112,  77.36645198],\n",
              "       [179.80421383, 126.17636072,  80.83888079]])"
            ]
          },
          "metadata": {
            "tags": []
          },
          "execution_count": 80
        }
      ]
    },
    {
      "cell_type": "code",
      "metadata": {
        "id": "1sEuXpgoOUjR",
        "outputId": "744fccec-4bfa-4040-cfe0-048a09fad37d",
        "colab": {
          "base_uri": "https://localhost:8080/"
        }
      },
      "source": [
        "Clus_cen.shape"
      ],
      "execution_count": 81,
      "outputs": [
        {
          "output_type": "execute_result",
          "data": {
            "text/plain": [
              "(8, 3)"
            ]
          },
          "metadata": {
            "tags": []
          },
          "execution_count": 81
        }
      ]
    },
    {
      "cell_type": "markdown",
      "metadata": {
        "id": "WXvBBauRL1BW"
      },
      "source": [
        "##Map color name back to image"
      ]
    },
    {
      "cell_type": "code",
      "metadata": {
        "id": "WlA1JOZ9Lj5G"
      },
      "source": [
        "new_img = np.zeros(RGB_img.shape)\n",
        "for i in range(RGB_img.shape[0]):\n",
        "  for j in range(RGB_img.shape[1]):\n",
        "    new_img[i,j,:] = Clus_cen[myQuantize.predict([RGB_img[i,j,:]]),:]"
      ],
      "execution_count": null,
      "outputs": []
    },
    {
      "cell_type": "code",
      "metadata": {
        "id": "mcMzz-R3P_8B",
        "outputId": "3a4b5350-53c7-4bd0-ab4b-0f7be24a6bf6",
        "colab": {
          "base_uri": "https://localhost:8080/",
          "height": 167
        }
      },
      "source": [
        "new_img_= new_img/255"
      ],
      "execution_count": 83,
      "outputs": [
        {
          "output_type": "error",
          "ename": "NameError",
          "evalue": "ignored",
          "traceback": [
            "\u001b[0;31m---------------------------------------------------------------------------\u001b[0m",
            "\u001b[0;31mNameError\u001b[0m                                 Traceback (most recent call last)",
            "\u001b[0;32m<ipython-input-83-c501bc923ed9>\u001b[0m in \u001b[0;36m<module>\u001b[0;34m()\u001b[0m\n\u001b[0;32m----> 1\u001b[0;31m \u001b[0mnew_img_\u001b[0m\u001b[0;34m\u001b[0m\u001b[0;34m\u001b[0m\u001b[0m\n\u001b[0m",
            "\u001b[0;31mNameError\u001b[0m: name 'new_img_' is not defined"
          ]
        }
      ]
    },
    {
      "cell_type": "code",
      "metadata": {
        "id": "E-Huf79_Qmjf"
      },
      "source": [
        "plt.imshow(new_img_)"
      ],
      "execution_count": null,
      "outputs": []
    }
  ]
}