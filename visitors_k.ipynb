{
  "nbformat": 4,
  "nbformat_minor": 0,
  "metadata": {
    "colab": {
      "name": "visitors_k.ipynb",
      "provenance": [],
      "include_colab_link": true
    },
    "kernelspec": {
      "name": "python3",
      "display_name": "Python 3"
    }
  },
  "cells": [
    {
      "cell_type": "markdown",
      "metadata": {
        "id": "view-in-github",
        "colab_type": "text"
      },
      "source": [
        "<a href=\"https://colab.research.google.com/github/dinsor17/KKU_Data_mining/blob/master/visitors_k.ipynb\" target=\"_parent\"><img src=\"https://colab.research.google.com/assets/colab-badge.svg\" alt=\"Open In Colab\"/></a>"
      ]
    },
    {
      "cell_type": "markdown",
      "metadata": {
        "id": "OdeTPnOddeIw"
      },
      "source": [
        "##อันดับแรกเลือก packages"
      ]
    },
    {
      "cell_type": "markdown",
      "metadata": {
        "id": "czdUqooJD1YM"
      },
      "source": [
        "การเรียกใช้ package ที่ชื่อว่า pandas"
      ]
    },
    {
      "cell_type": "code",
      "metadata": {
        "id": "i8IxcN3IZAtm"
      },
      "source": [
        "import pandas"
      ],
      "execution_count": 384,
      "outputs": []
    },
    {
      "cell_type": "markdown",
      "metadata": {
        "id": "Law2jr6edq4h"
      },
      "source": [
        "##เชื่อมต่อกับ Google drive\n",
        "หรือนำไฟล์จาก Drive มาที่ google colab"
      ]
    },
    {
      "cell_type": "code",
      "metadata": {
        "colab": {
          "base_uri": "https://localhost:8080/"
        },
        "id": "x3QzdQpgZq_0",
        "outputId": "f4472e1f-aa63-4fcf-f6ca-3262e050c868"
      },
      "source": [
        "from google.colab import drive\n",
        "drive.mount('/content/drive')\n",
        "\n",
        "##ตั้งชื่อลิ้งค์\n",
        "path = '/content/drive/My Drive/DWDM_material'"
      ],
      "execution_count": 385,
      "outputs": [
        {
          "output_type": "stream",
          "text": [
            "Drive already mounted at /content/drive; to attempt to forcibly remount, call drive.mount(\"/content/drive\", force_remount=True).\n"
          ],
          "name": "stdout"
        }
      ]
    },
    {
      "cell_type": "markdown",
      "metadata": {
        "id": "nAfr9l2dEJdi"
      },
      "source": [
        "##การเรียกใช้ package ที่ชื่อว่า os"
      ]
    },
    {
      "cell_type": "code",
      "metadata": {
        "id": "Uy1ZhvrNZolM"
      },
      "source": [
        "import os\n",
        "\n",
        "dnp_attraction = os.path.join(path,'dnp_attraction.csv')\n",
        "visitors = os.path.join(path,'visitors.csv')"
      ],
      "execution_count": 386,
      "outputs": []
    },
    {
      "cell_type": "markdown",
      "metadata": {
        "id": "Dpsr_LphE_TW"
      },
      "source": [
        "##จากนั้นใช้ pandas โหลดข้อมูลมา"
      ]
    },
    {
      "cell_type": "code",
      "metadata": {
        "colab": {
          "base_uri": "https://localhost:8080/",
          "height": 748
        },
        "id": "z920E8TpaqJr",
        "outputId": "4c3ed8ce-a9c6-4b8f-cf41-a39a29fe9684"
      },
      "source": [
        "dnp_attraction_df = pandas.read_csv(dnp_attraction)\n",
        "dnp_attraction_df.head()"
      ],
      "execution_count": 387,
      "outputs": [
        {
          "output_type": "execute_result",
          "data": {
            "text/html": [
              "<div>\n",
              "<style scoped>\n",
              "    .dataframe tbody tr th:only-of-type {\n",
              "        vertical-align: middle;\n",
              "    }\n",
              "\n",
              "    .dataframe tbody tr th {\n",
              "        vertical-align: top;\n",
              "    }\n",
              "\n",
              "    .dataframe thead th {\n",
              "        text-align: right;\n",
              "    }\n",
              "</style>\n",
              "<table border=\"1\" class=\"dataframe\">\n",
              "  <thead>\n",
              "    <tr style=\"text-align: right;\">\n",
              "      <th></th>\n",
              "      <th>Type-TH</th>\n",
              "      <th>Type-EN</th>\n",
              "      <th>SubType-TH</th>\n",
              "      <th>SubType-EN</th>\n",
              "      <th>Attraction-name TH</th>\n",
              "      <th>Attraction-name EN</th>\n",
              "      <th>Organization-Unit-TH</th>\n",
              "      <th>Organization-Unit-EN</th>\n",
              "      <th>Latitude</th>\n",
              "      <th>Longtiude</th>\n",
              "      <th>Open-Houre</th>\n",
              "      <th>Image-URL</th>\n",
              "      <th>Facility</th>\n",
              "      <th>Contact</th>\n",
              "      <th>Province</th>\n",
              "      <th>District</th>\n",
              "      <th>Subdistrict</th>\n",
              "    </tr>\n",
              "  </thead>\n",
              "  <tbody>\n",
              "    <tr>\n",
              "      <th>0</th>\n",
              "      <td>สวนพฤกษศาสตร์</td>\n",
              "      <td>Botanical Garden</td>\n",
              "      <td>-</td>\n",
              "      <td>-</td>\n",
              "      <td>สวนพฤกษศาสตร์วังน้ำเย็น</td>\n",
              "      <td>Wang Nam Yen Botanical Garden</td>\n",
              "      <td>สำนักวิจัยการอนุรักษ์ป่าไม้และพันธุ์พืช</td>\n",
              "      <td>Forest and Plant Conservation Research Office</td>\n",
              "      <td>13.497</td>\n",
              "      <td>102.015</td>\n",
              "      <td>ทุกวัน (เวลาราชการ 8.30 น. -16.30 น.)</td>\n",
              "      <td>http://www.dnp.go.th/MFCD3/oganization/%E0%B8%...</td>\n",
              "      <td>-บ้านพัก ห้องประชุม</td>\n",
              "      <td>089-811-031</td>\n",
              "      <td>สระแก้ว</td>\n",
              "      <td>วังน้ำเย็น</td>\n",
              "      <td>ทุ่งมหาเจริญ</td>\n",
              "    </tr>\n",
              "    <tr>\n",
              "      <th>1</th>\n",
              "      <td>สวนพฤกษศาสตร์</td>\n",
              "      <td>Botanical Garden</td>\n",
              "      <td>-</td>\n",
              "      <td>-</td>\n",
              "      <td>สวนพฤกษศาสตร์พุแค</td>\n",
              "      <td>Phu Khae Botanical Garden</td>\n",
              "      <td>สำนักวิจัยการอนุรักษ์ป่าไม้และพันธุ์พืช</td>\n",
              "      <td>Forest and Plant Conservation Research Office</td>\n",
              "      <td>14.6712</td>\n",
              "      <td>100.8846</td>\n",
              "      <td>ทุกวัน (เวลาราชการ 8.30 น. -16.30 น.)</td>\n",
              "      <td>http://saraburi.dnp.go.th/sever/saraburisite/w...</td>\n",
              "      <td>-บ้านพัก ห้องประชุม</td>\n",
              "      <td>036-347-457</td>\n",
              "      <td>สระบุรี</td>\n",
              "      <td>เฉลิมพระเกียรติ</td>\n",
              "      <td>พุแค</td>\n",
              "    </tr>\n",
              "    <tr>\n",
              "      <th>2</th>\n",
              "      <td>สวนพฤกษศาสตร์</td>\n",
              "      <td>Botanical Garden</td>\n",
              "      <td>-</td>\n",
              "      <td>-</td>\n",
              "      <td>สวนพฤกษศาสตร์บ้านเพ</td>\n",
              "      <td>Ban Phe Botanical Garden</td>\n",
              "      <td>สำนักวิจัยการอนุรักษ์ป่าไม้และพันธุ์พืช</td>\n",
              "      <td>Forest and Plant Conservation Research Office</td>\n",
              "      <td>12.6335</td>\n",
              "      <td>101.4586</td>\n",
              "      <td>ทุกวัน (เวลาราชการ 8.30 น. -16.30 น.)</td>\n",
              "      <td>NaN</td>\n",
              "      <td>-บ้านพัก ห้องประชุม</td>\n",
              "      <td>038-653-022</td>\n",
              "      <td>ระยอง</td>\n",
              "      <td>เมืองระยอง</td>\n",
              "      <td>แกลง</td>\n",
              "    </tr>\n",
              "    <tr>\n",
              "      <th>3</th>\n",
              "      <td>สวนพฤกษศาสตร์</td>\n",
              "      <td>Botanical Garden</td>\n",
              "      <td>-</td>\n",
              "      <td>-</td>\n",
              "      <td>สวนพฤกษศาสตร์เขาหินซ้อน</td>\n",
              "      <td>Khao Hin Son Botanical Garden</td>\n",
              "      <td>สำนักวิจัยการอนุรักษ์ป่าไม้และพันธุ์พืช</td>\n",
              "      <td>Forest and Plant Conservation Research Office</td>\n",
              "      <td>13.7526</td>\n",
              "      <td>101.5064</td>\n",
              "      <td>ทุกวัน (เวลาราชการ 8.30 น. -16.30 น.)</td>\n",
              "      <td>http://www.khaohinsonbg.org/</td>\n",
              "      <td>-บ้านพัก ห้องประชุม</td>\n",
              "      <td>038-599-113, 038-554-920</td>\n",
              "      <td>ฉะเชิงเทรา</td>\n",
              "      <td>พนมสารคาม</td>\n",
              "      <td>เขาหินซ้อน</td>\n",
              "    </tr>\n",
              "    <tr>\n",
              "      <th>4</th>\n",
              "      <td>สวนพฤกษศาสตร์</td>\n",
              "      <td>Botanical Garden</td>\n",
              "      <td>-</td>\n",
              "      <td>-</td>\n",
              "      <td>สวนพฤกษศาสตร์เขาช่อง</td>\n",
              "      <td>Khao Chong Botanical Garden</td>\n",
              "      <td>สำนักวิจัยการอนุรักษ์ป่าไม้และพันธุ์พืช</td>\n",
              "      <td>Forest and Plant Conservation Research Office</td>\n",
              "      <td>7.5577</td>\n",
              "      <td>99.7761</td>\n",
              "      <td>ทุกวัน (เวลาราชการ 8.30 น. -16.30 น.)</td>\n",
              "      <td>NaN</td>\n",
              "      <td>-บ้านพัก ห้องประชุม</td>\n",
              "      <td>075-573-521</td>\n",
              "      <td>ตรัง</td>\n",
              "      <td>นาโยง</td>\n",
              "      <td>นาโยง</td>\n",
              "    </tr>\n",
              "  </tbody>\n",
              "</table>\n",
              "</div>"
            ],
            "text/plain": [
              "         Type-TH           Type-EN  ...         District   Subdistrict\n",
              "0  สวนพฤกษศาสตร์  Botanical Garden  ...       วังน้ำเย็น  ทุ่งมหาเจริญ\n",
              "1  สวนพฤกษศาสตร์  Botanical Garden  ...  เฉลิมพระเกียรติ          พุแค\n",
              "2  สวนพฤกษศาสตร์  Botanical Garden  ...       เมืองระยอง          แกลง\n",
              "3  สวนพฤกษศาสตร์  Botanical Garden  ...        พนมสารคาม    เขาหินซ้อน\n",
              "4  สวนพฤกษศาสตร์  Botanical Garden  ...            นาโยง         นาโยง\n",
              "\n",
              "[5 rows x 17 columns]"
            ]
          },
          "metadata": {
            "tags": []
          },
          "execution_count": 387
        }
      ]
    },
    {
      "cell_type": "code",
      "metadata": {
        "id": "_xoO_DaTaqua",
        "colab": {
          "base_uri": "https://localhost:8080/",
          "height": 200
        },
        "outputId": "4be1de1f-941e-4983-d711-d69d4241e343"
      },
      "source": [
        "visitors_df = pandas.read_csv(visitors)\n",
        "visitors_df.head()"
      ],
      "execution_count": 388,
      "outputs": [
        {
          "output_type": "execute_result",
          "data": {
            "text/html": [
              "<div>\n",
              "<style scoped>\n",
              "    .dataframe tbody tr th:only-of-type {\n",
              "        vertical-align: middle;\n",
              "    }\n",
              "\n",
              "    .dataframe tbody tr th {\n",
              "        vertical-align: top;\n",
              "    }\n",
              "\n",
              "    .dataframe thead th {\n",
              "        text-align: right;\n",
              "    }\n",
              "</style>\n",
              "<table border=\"1\" class=\"dataframe\">\n",
              "  <thead>\n",
              "    <tr style=\"text-align: right;\">\n",
              "      <th></th>\n",
              "      <th>จังหวัด</th>\n",
              "      <th>รหัสจังหวัด</th>\n",
              "      <th>2549</th>\n",
              "      <th>2550</th>\n",
              "      <th>2551</th>\n",
              "      <th>2552</th>\n",
              "      <th>2553</th>\n",
              "      <th>2554</th>\n",
              "      <th>2555</th>\n",
              "      <th>2556</th>\n",
              "      <th>2557</th>\n",
              "      <th>2558</th>\n",
              "      <th>2559</th>\n",
              "      <th>2560</th>\n",
              "      <th>2561</th>\n",
              "    </tr>\n",
              "  </thead>\n",
              "  <tbody>\n",
              "    <tr>\n",
              "      <th>0</th>\n",
              "      <td>กรุงเทพมหานคร</td>\n",
              "      <td>th-bm</td>\n",
              "      <td>36172138.0</td>\n",
              "      <td>35953546.0</td>\n",
              "      <td>35110693.0</td>\n",
              "      <td>30037911.0</td>\n",
              "      <td>38222903.0</td>\n",
              "      <td>43763002</td>\n",
              "      <td>47185031</td>\n",
              "      <td>50568902</td>\n",
              "      <td>50972772</td>\n",
              "      <td>56515597</td>\n",
              "      <td>59196331</td>\n",
              "      <td>63575737</td>\n",
              "      <td>65534281</td>\n",
              "    </tr>\n",
              "    <tr>\n",
              "      <th>1</th>\n",
              "      <td>สมุทรปราการ</td>\n",
              "      <td>th-sp</td>\n",
              "      <td>958352.0</td>\n",
              "      <td>1262082.0</td>\n",
              "      <td>1875232.0</td>\n",
              "      <td>1292295.0</td>\n",
              "      <td>1291883.0</td>\n",
              "      <td>1489104</td>\n",
              "      <td>2107433</td>\n",
              "      <td>2204073</td>\n",
              "      <td>2350340</td>\n",
              "      <td>2780429</td>\n",
              "      <td>2900180</td>\n",
              "      <td>3218934</td>\n",
              "      <td>3373639</td>\n",
              "    </tr>\n",
              "    <tr>\n",
              "      <th>2</th>\n",
              "      <td>นนทบุรี</td>\n",
              "      <td>th-no</td>\n",
              "      <td>830593.0</td>\n",
              "      <td>1079877.0</td>\n",
              "      <td>973721.0</td>\n",
              "      <td>1373459.0</td>\n",
              "      <td>1792164.0</td>\n",
              "      <td>2004376</td>\n",
              "      <td>1663990</td>\n",
              "      <td>1700408</td>\n",
              "      <td>1730885</td>\n",
              "      <td>2045867</td>\n",
              "      <td>2090095</td>\n",
              "      <td>2514677</td>\n",
              "      <td>2664025</td>\n",
              "    </tr>\n",
              "    <tr>\n",
              "      <th>3</th>\n",
              "      <td>ปทุมธานี</td>\n",
              "      <td>th-pt</td>\n",
              "      <td>868449.0</td>\n",
              "      <td>1050674.0</td>\n",
              "      <td>798231.0</td>\n",
              "      <td>965318.0</td>\n",
              "      <td>1068529.0</td>\n",
              "      <td>1086433</td>\n",
              "      <td>1474292</td>\n",
              "      <td>1553170</td>\n",
              "      <td>1613073</td>\n",
              "      <td>1815389</td>\n",
              "      <td>1896549</td>\n",
              "      <td>2014281</td>\n",
              "      <td>2098344</td>\n",
              "    </tr>\n",
              "    <tr>\n",
              "      <th>4</th>\n",
              "      <td>พระนครศรีอยุธยา</td>\n",
              "      <td>th-pa</td>\n",
              "      <td>3373929.0</td>\n",
              "      <td>3784617.0</td>\n",
              "      <td>3659402.0</td>\n",
              "      <td>3583231.0</td>\n",
              "      <td>6534638.0</td>\n",
              "      <td>4890949</td>\n",
              "      <td>6066545</td>\n",
              "      <td>6226424</td>\n",
              "      <td>6698561</td>\n",
              "      <td>6994538</td>\n",
              "      <td>7216514</td>\n",
              "      <td>7631557</td>\n",
              "      <td>8349613</td>\n",
              "    </tr>\n",
              "  </tbody>\n",
              "</table>\n",
              "</div>"
            ],
            "text/plain": [
              "           จังหวัด รหัสจังหวัด        2549  ...      2559      2560      2561\n",
              "0    กรุงเทพมหานคร       th-bm  36172138.0  ...  59196331  63575737  65534281\n",
              "1      สมุทรปราการ       th-sp    958352.0  ...   2900180   3218934   3373639\n",
              "2          นนทบุรี       th-no    830593.0  ...   2090095   2514677   2664025\n",
              "3         ปทุมธานี       th-pt    868449.0  ...   1896549   2014281   2098344\n",
              "4  พระนครศรีอยุธยา       th-pa   3373929.0  ...   7216514   7631557   8349613\n",
              "\n",
              "[5 rows x 15 columns]"
            ]
          },
          "metadata": {
            "tags": []
          },
          "execution_count": 388
        }
      ]
    },
    {
      "cell_type": "markdown",
      "metadata": {
        "id": "FeRForhid_Tl"
      },
      "source": [
        "##เช็คดูจำนวนแถวและคอลัมน์\n"
      ]
    },
    {
      "cell_type": "code",
      "metadata": {
        "id": "RoNNCZrkdABL",
        "colab": {
          "base_uri": "https://localhost:8080/"
        },
        "outputId": "0ce55917-0f6d-47f8-d798-1f78b14274cf"
      },
      "source": [
        "dnp_attraction_df.shape"
      ],
      "execution_count": 389,
      "outputs": [
        {
          "output_type": "execute_result",
          "data": {
            "text/plain": [
              "(1431, 17)"
            ]
          },
          "metadata": {
            "tags": []
          },
          "execution_count": 389
        }
      ]
    },
    {
      "cell_type": "code",
      "metadata": {
        "id": "db-iaSISdAiZ",
        "colab": {
          "base_uri": "https://localhost:8080/"
        },
        "outputId": "19900aa1-1b19-4427-f09d-06fd751df510"
      },
      "source": [
        "visitors_df.shape"
      ],
      "execution_count": 390,
      "outputs": [
        {
          "output_type": "execute_result",
          "data": {
            "text/plain": [
              "(77, 15)"
            ]
          },
          "metadata": {
            "tags": []
          },
          "execution_count": 390
        }
      ]
    },
    {
      "cell_type": "markdown",
      "metadata": {
        "id": "AoEkjXcmem2p"
      },
      "source": [
        "##Missing Values"
      ]
    },
    {
      "cell_type": "markdown",
      "metadata": {
        "id": "gaBQO3hDeuho"
      },
      "source": [
        "วิธีที่ 1 ลบ Missing ออกไปเลย"
      ]
    },
    {
      "cell_type": "code",
      "metadata": {
        "id": "rqGaNH5gdKVI",
        "colab": {
          "base_uri": "https://localhost:8080/",
          "height": 0
        },
        "outputId": "422ef2ab-e341-4ab4-b165-3ac44c45a298"
      },
      "source": [
        "dnp_attraction_df.isnull()"
      ],
      "execution_count": 391,
      "outputs": [
        {
          "output_type": "execute_result",
          "data": {
            "text/html": [
              "<div>\n",
              "<style scoped>\n",
              "    .dataframe tbody tr th:only-of-type {\n",
              "        vertical-align: middle;\n",
              "    }\n",
              "\n",
              "    .dataframe tbody tr th {\n",
              "        vertical-align: top;\n",
              "    }\n",
              "\n",
              "    .dataframe thead th {\n",
              "        text-align: right;\n",
              "    }\n",
              "</style>\n",
              "<table border=\"1\" class=\"dataframe\">\n",
              "  <thead>\n",
              "    <tr style=\"text-align: right;\">\n",
              "      <th></th>\n",
              "      <th>Type-TH</th>\n",
              "      <th>Type-EN</th>\n",
              "      <th>SubType-TH</th>\n",
              "      <th>SubType-EN</th>\n",
              "      <th>Attraction-name TH</th>\n",
              "      <th>Attraction-name EN</th>\n",
              "      <th>Organization-Unit-TH</th>\n",
              "      <th>Organization-Unit-EN</th>\n",
              "      <th>Latitude</th>\n",
              "      <th>Longtiude</th>\n",
              "      <th>Open-Houre</th>\n",
              "      <th>Image-URL</th>\n",
              "      <th>Facility</th>\n",
              "      <th>Contact</th>\n",
              "      <th>Province</th>\n",
              "      <th>District</th>\n",
              "      <th>Subdistrict</th>\n",
              "    </tr>\n",
              "  </thead>\n",
              "  <tbody>\n",
              "    <tr>\n",
              "      <th>0</th>\n",
              "      <td>False</td>\n",
              "      <td>False</td>\n",
              "      <td>False</td>\n",
              "      <td>False</td>\n",
              "      <td>False</td>\n",
              "      <td>False</td>\n",
              "      <td>False</td>\n",
              "      <td>False</td>\n",
              "      <td>False</td>\n",
              "      <td>False</td>\n",
              "      <td>False</td>\n",
              "      <td>False</td>\n",
              "      <td>False</td>\n",
              "      <td>False</td>\n",
              "      <td>False</td>\n",
              "      <td>False</td>\n",
              "      <td>False</td>\n",
              "    </tr>\n",
              "    <tr>\n",
              "      <th>1</th>\n",
              "      <td>False</td>\n",
              "      <td>False</td>\n",
              "      <td>False</td>\n",
              "      <td>False</td>\n",
              "      <td>False</td>\n",
              "      <td>False</td>\n",
              "      <td>False</td>\n",
              "      <td>False</td>\n",
              "      <td>False</td>\n",
              "      <td>False</td>\n",
              "      <td>False</td>\n",
              "      <td>False</td>\n",
              "      <td>False</td>\n",
              "      <td>False</td>\n",
              "      <td>False</td>\n",
              "      <td>False</td>\n",
              "      <td>False</td>\n",
              "    </tr>\n",
              "    <tr>\n",
              "      <th>2</th>\n",
              "      <td>False</td>\n",
              "      <td>False</td>\n",
              "      <td>False</td>\n",
              "      <td>False</td>\n",
              "      <td>False</td>\n",
              "      <td>False</td>\n",
              "      <td>False</td>\n",
              "      <td>False</td>\n",
              "      <td>False</td>\n",
              "      <td>False</td>\n",
              "      <td>False</td>\n",
              "      <td>True</td>\n",
              "      <td>False</td>\n",
              "      <td>False</td>\n",
              "      <td>False</td>\n",
              "      <td>False</td>\n",
              "      <td>False</td>\n",
              "    </tr>\n",
              "    <tr>\n",
              "      <th>3</th>\n",
              "      <td>False</td>\n",
              "      <td>False</td>\n",
              "      <td>False</td>\n",
              "      <td>False</td>\n",
              "      <td>False</td>\n",
              "      <td>False</td>\n",
              "      <td>False</td>\n",
              "      <td>False</td>\n",
              "      <td>False</td>\n",
              "      <td>False</td>\n",
              "      <td>False</td>\n",
              "      <td>False</td>\n",
              "      <td>False</td>\n",
              "      <td>False</td>\n",
              "      <td>False</td>\n",
              "      <td>False</td>\n",
              "      <td>False</td>\n",
              "    </tr>\n",
              "    <tr>\n",
              "      <th>4</th>\n",
              "      <td>False</td>\n",
              "      <td>False</td>\n",
              "      <td>False</td>\n",
              "      <td>False</td>\n",
              "      <td>False</td>\n",
              "      <td>False</td>\n",
              "      <td>False</td>\n",
              "      <td>False</td>\n",
              "      <td>False</td>\n",
              "      <td>False</td>\n",
              "      <td>False</td>\n",
              "      <td>True</td>\n",
              "      <td>False</td>\n",
              "      <td>False</td>\n",
              "      <td>False</td>\n",
              "      <td>False</td>\n",
              "      <td>False</td>\n",
              "    </tr>\n",
              "    <tr>\n",
              "      <th>...</th>\n",
              "      <td>...</td>\n",
              "      <td>...</td>\n",
              "      <td>...</td>\n",
              "      <td>...</td>\n",
              "      <td>...</td>\n",
              "      <td>...</td>\n",
              "      <td>...</td>\n",
              "      <td>...</td>\n",
              "      <td>...</td>\n",
              "      <td>...</td>\n",
              "      <td>...</td>\n",
              "      <td>...</td>\n",
              "      <td>...</td>\n",
              "      <td>...</td>\n",
              "      <td>...</td>\n",
              "      <td>...</td>\n",
              "      <td>...</td>\n",
              "    </tr>\n",
              "    <tr>\n",
              "      <th>1426</th>\n",
              "      <td>False</td>\n",
              "      <td>False</td>\n",
              "      <td>False</td>\n",
              "      <td>False</td>\n",
              "      <td>False</td>\n",
              "      <td>False</td>\n",
              "      <td>False</td>\n",
              "      <td>False</td>\n",
              "      <td>True</td>\n",
              "      <td>True</td>\n",
              "      <td>True</td>\n",
              "      <td>False</td>\n",
              "      <td>True</td>\n",
              "      <td>False</td>\n",
              "      <td>False</td>\n",
              "      <td>False</td>\n",
              "      <td>False</td>\n",
              "    </tr>\n",
              "    <tr>\n",
              "      <th>1427</th>\n",
              "      <td>False</td>\n",
              "      <td>False</td>\n",
              "      <td>False</td>\n",
              "      <td>False</td>\n",
              "      <td>False</td>\n",
              "      <td>False</td>\n",
              "      <td>False</td>\n",
              "      <td>False</td>\n",
              "      <td>True</td>\n",
              "      <td>True</td>\n",
              "      <td>True</td>\n",
              "      <td>False</td>\n",
              "      <td>True</td>\n",
              "      <td>False</td>\n",
              "      <td>False</td>\n",
              "      <td>False</td>\n",
              "      <td>False</td>\n",
              "    </tr>\n",
              "    <tr>\n",
              "      <th>1428</th>\n",
              "      <td>False</td>\n",
              "      <td>False</td>\n",
              "      <td>False</td>\n",
              "      <td>False</td>\n",
              "      <td>False</td>\n",
              "      <td>False</td>\n",
              "      <td>False</td>\n",
              "      <td>False</td>\n",
              "      <td>True</td>\n",
              "      <td>True</td>\n",
              "      <td>True</td>\n",
              "      <td>False</td>\n",
              "      <td>True</td>\n",
              "      <td>False</td>\n",
              "      <td>False</td>\n",
              "      <td>False</td>\n",
              "      <td>False</td>\n",
              "    </tr>\n",
              "    <tr>\n",
              "      <th>1429</th>\n",
              "      <td>False</td>\n",
              "      <td>False</td>\n",
              "      <td>False</td>\n",
              "      <td>False</td>\n",
              "      <td>False</td>\n",
              "      <td>False</td>\n",
              "      <td>False</td>\n",
              "      <td>False</td>\n",
              "      <td>True</td>\n",
              "      <td>True</td>\n",
              "      <td>True</td>\n",
              "      <td>False</td>\n",
              "      <td>True</td>\n",
              "      <td>False</td>\n",
              "      <td>False</td>\n",
              "      <td>False</td>\n",
              "      <td>False</td>\n",
              "    </tr>\n",
              "    <tr>\n",
              "      <th>1430</th>\n",
              "      <td>False</td>\n",
              "      <td>False</td>\n",
              "      <td>False</td>\n",
              "      <td>False</td>\n",
              "      <td>False</td>\n",
              "      <td>False</td>\n",
              "      <td>False</td>\n",
              "      <td>False</td>\n",
              "      <td>True</td>\n",
              "      <td>True</td>\n",
              "      <td>False</td>\n",
              "      <td>False</td>\n",
              "      <td>True</td>\n",
              "      <td>False</td>\n",
              "      <td>False</td>\n",
              "      <td>False</td>\n",
              "      <td>False</td>\n",
              "    </tr>\n",
              "  </tbody>\n",
              "</table>\n",
              "<p>1431 rows × 17 columns</p>\n",
              "</div>"
            ],
            "text/plain": [
              "      Type-TH  Type-EN  SubType-TH  ...  Province  District  Subdistrict\n",
              "0       False    False       False  ...     False     False        False\n",
              "1       False    False       False  ...     False     False        False\n",
              "2       False    False       False  ...     False     False        False\n",
              "3       False    False       False  ...     False     False        False\n",
              "4       False    False       False  ...     False     False        False\n",
              "...       ...      ...         ...  ...       ...       ...          ...\n",
              "1426    False    False       False  ...     False     False        False\n",
              "1427    False    False       False  ...     False     False        False\n",
              "1428    False    False       False  ...     False     False        False\n",
              "1429    False    False       False  ...     False     False        False\n",
              "1430    False    False       False  ...     False     False        False\n",
              "\n",
              "[1431 rows x 17 columns]"
            ]
          },
          "metadata": {
            "tags": []
          },
          "execution_count": 391
        }
      ]
    },
    {
      "cell_type": "code",
      "metadata": {
        "id": "iQ573KOLdT94",
        "colab": {
          "base_uri": "https://localhost:8080/"
        },
        "outputId": "7805958a-1dec-49f6-e43a-14393f72ba13"
      },
      "source": [
        "dnp_attraction_df.isnull().any()"
      ],
      "execution_count": 392,
      "outputs": [
        {
          "output_type": "execute_result",
          "data": {
            "text/plain": [
              "Type-TH                 True\n",
              "Type-EN                 True\n",
              "SubType-TH              True\n",
              "SubType-EN              True\n",
              "Attraction-name TH      True\n",
              "Attraction-name EN      True\n",
              "Organization-Unit-TH    True\n",
              "Organization-Unit-EN    True\n",
              "Latitude                True\n",
              "Longtiude               True\n",
              "Open-Houre              True\n",
              "Image-URL               True\n",
              "Facility                True\n",
              "Contact                 True\n",
              "Province                True\n",
              "District                True\n",
              "Subdistrict             True\n",
              "dtype: bool"
            ]
          },
          "metadata": {
            "tags": []
          },
          "execution_count": 392
        }
      ]
    },
    {
      "cell_type": "code",
      "metadata": {
        "id": "teN1QZuedbNg"
      },
      "source": [
        "dnp_attraction_df_nm = dnp_attraction_df.dropna()"
      ],
      "execution_count": 393,
      "outputs": []
    },
    {
      "cell_type": "code",
      "metadata": {
        "id": "mM_SAAJEdi4I",
        "colab": {
          "base_uri": "https://localhost:8080/"
        },
        "outputId": "c7f1c052-3a48-4c5f-f2ff-2fd93ec8fa85"
      },
      "source": [
        "dnp_attraction_df_nm.isnull().any().any()"
      ],
      "execution_count": 394,
      "outputs": [
        {
          "output_type": "execute_result",
          "data": {
            "text/plain": [
              "False"
            ]
          },
          "metadata": {
            "tags": []
          },
          "execution_count": 394
        }
      ]
    },
    {
      "cell_type": "code",
      "metadata": {
        "id": "w0H1KbZ9dmZg",
        "colab": {
          "base_uri": "https://localhost:8080/"
        },
        "outputId": "526964a4-48fb-42db-9ae3-b5c86a9d3857"
      },
      "source": [
        "print(dnp_attraction_df.shape)\n",
        "print(dnp_attraction_df_nm.shape)"
      ],
      "execution_count": 395,
      "outputs": [
        {
          "output_type": "stream",
          "text": [
            "(1431, 17)\n",
            "(16, 17)\n"
          ],
          "name": "stdout"
        }
      ]
    },
    {
      "cell_type": "code",
      "metadata": {
        "id": "W3BK8RKcdNr4",
        "colab": {
          "base_uri": "https://localhost:8080/",
          "height": 0
        },
        "outputId": "6dc128bf-2cbf-4aeb-be13-6579dc09eed6"
      },
      "source": [
        "visitors_df.isnull()"
      ],
      "execution_count": 396,
      "outputs": [
        {
          "output_type": "execute_result",
          "data": {
            "text/html": [
              "<div>\n",
              "<style scoped>\n",
              "    .dataframe tbody tr th:only-of-type {\n",
              "        vertical-align: middle;\n",
              "    }\n",
              "\n",
              "    .dataframe tbody tr th {\n",
              "        vertical-align: top;\n",
              "    }\n",
              "\n",
              "    .dataframe thead th {\n",
              "        text-align: right;\n",
              "    }\n",
              "</style>\n",
              "<table border=\"1\" class=\"dataframe\">\n",
              "  <thead>\n",
              "    <tr style=\"text-align: right;\">\n",
              "      <th></th>\n",
              "      <th>จังหวัด</th>\n",
              "      <th>รหัสจังหวัด</th>\n",
              "      <th>2549</th>\n",
              "      <th>2550</th>\n",
              "      <th>2551</th>\n",
              "      <th>2552</th>\n",
              "      <th>2553</th>\n",
              "      <th>2554</th>\n",
              "      <th>2555</th>\n",
              "      <th>2556</th>\n",
              "      <th>2557</th>\n",
              "      <th>2558</th>\n",
              "      <th>2559</th>\n",
              "      <th>2560</th>\n",
              "      <th>2561</th>\n",
              "    </tr>\n",
              "  </thead>\n",
              "  <tbody>\n",
              "    <tr>\n",
              "      <th>0</th>\n",
              "      <td>False</td>\n",
              "      <td>False</td>\n",
              "      <td>False</td>\n",
              "      <td>False</td>\n",
              "      <td>False</td>\n",
              "      <td>False</td>\n",
              "      <td>False</td>\n",
              "      <td>False</td>\n",
              "      <td>False</td>\n",
              "      <td>False</td>\n",
              "      <td>False</td>\n",
              "      <td>False</td>\n",
              "      <td>False</td>\n",
              "      <td>False</td>\n",
              "      <td>False</td>\n",
              "    </tr>\n",
              "    <tr>\n",
              "      <th>1</th>\n",
              "      <td>False</td>\n",
              "      <td>False</td>\n",
              "      <td>False</td>\n",
              "      <td>False</td>\n",
              "      <td>False</td>\n",
              "      <td>False</td>\n",
              "      <td>False</td>\n",
              "      <td>False</td>\n",
              "      <td>False</td>\n",
              "      <td>False</td>\n",
              "      <td>False</td>\n",
              "      <td>False</td>\n",
              "      <td>False</td>\n",
              "      <td>False</td>\n",
              "      <td>False</td>\n",
              "    </tr>\n",
              "    <tr>\n",
              "      <th>2</th>\n",
              "      <td>False</td>\n",
              "      <td>False</td>\n",
              "      <td>False</td>\n",
              "      <td>False</td>\n",
              "      <td>False</td>\n",
              "      <td>False</td>\n",
              "      <td>False</td>\n",
              "      <td>False</td>\n",
              "      <td>False</td>\n",
              "      <td>False</td>\n",
              "      <td>False</td>\n",
              "      <td>False</td>\n",
              "      <td>False</td>\n",
              "      <td>False</td>\n",
              "      <td>False</td>\n",
              "    </tr>\n",
              "    <tr>\n",
              "      <th>3</th>\n",
              "      <td>False</td>\n",
              "      <td>False</td>\n",
              "      <td>False</td>\n",
              "      <td>False</td>\n",
              "      <td>False</td>\n",
              "      <td>False</td>\n",
              "      <td>False</td>\n",
              "      <td>False</td>\n",
              "      <td>False</td>\n",
              "      <td>False</td>\n",
              "      <td>False</td>\n",
              "      <td>False</td>\n",
              "      <td>False</td>\n",
              "      <td>False</td>\n",
              "      <td>False</td>\n",
              "    </tr>\n",
              "    <tr>\n",
              "      <th>4</th>\n",
              "      <td>False</td>\n",
              "      <td>False</td>\n",
              "      <td>False</td>\n",
              "      <td>False</td>\n",
              "      <td>False</td>\n",
              "      <td>False</td>\n",
              "      <td>False</td>\n",
              "      <td>False</td>\n",
              "      <td>False</td>\n",
              "      <td>False</td>\n",
              "      <td>False</td>\n",
              "      <td>False</td>\n",
              "      <td>False</td>\n",
              "      <td>False</td>\n",
              "      <td>False</td>\n",
              "    </tr>\n",
              "    <tr>\n",
              "      <th>...</th>\n",
              "      <td>...</td>\n",
              "      <td>...</td>\n",
              "      <td>...</td>\n",
              "      <td>...</td>\n",
              "      <td>...</td>\n",
              "      <td>...</td>\n",
              "      <td>...</td>\n",
              "      <td>...</td>\n",
              "      <td>...</td>\n",
              "      <td>...</td>\n",
              "      <td>...</td>\n",
              "      <td>...</td>\n",
              "      <td>...</td>\n",
              "      <td>...</td>\n",
              "      <td>...</td>\n",
              "    </tr>\n",
              "    <tr>\n",
              "      <th>72</th>\n",
              "      <td>False</td>\n",
              "      <td>False</td>\n",
              "      <td>False</td>\n",
              "      <td>False</td>\n",
              "      <td>False</td>\n",
              "      <td>False</td>\n",
              "      <td>False</td>\n",
              "      <td>False</td>\n",
              "      <td>False</td>\n",
              "      <td>False</td>\n",
              "      <td>False</td>\n",
              "      <td>False</td>\n",
              "      <td>False</td>\n",
              "      <td>False</td>\n",
              "      <td>False</td>\n",
              "    </tr>\n",
              "    <tr>\n",
              "      <th>73</th>\n",
              "      <td>False</td>\n",
              "      <td>False</td>\n",
              "      <td>False</td>\n",
              "      <td>False</td>\n",
              "      <td>False</td>\n",
              "      <td>False</td>\n",
              "      <td>False</td>\n",
              "      <td>False</td>\n",
              "      <td>False</td>\n",
              "      <td>False</td>\n",
              "      <td>False</td>\n",
              "      <td>False</td>\n",
              "      <td>False</td>\n",
              "      <td>False</td>\n",
              "      <td>False</td>\n",
              "    </tr>\n",
              "    <tr>\n",
              "      <th>74</th>\n",
              "      <td>False</td>\n",
              "      <td>False</td>\n",
              "      <td>False</td>\n",
              "      <td>False</td>\n",
              "      <td>False</td>\n",
              "      <td>False</td>\n",
              "      <td>False</td>\n",
              "      <td>False</td>\n",
              "      <td>False</td>\n",
              "      <td>False</td>\n",
              "      <td>False</td>\n",
              "      <td>False</td>\n",
              "      <td>False</td>\n",
              "      <td>False</td>\n",
              "      <td>False</td>\n",
              "    </tr>\n",
              "    <tr>\n",
              "      <th>75</th>\n",
              "      <td>False</td>\n",
              "      <td>False</td>\n",
              "      <td>False</td>\n",
              "      <td>False</td>\n",
              "      <td>False</td>\n",
              "      <td>False</td>\n",
              "      <td>False</td>\n",
              "      <td>False</td>\n",
              "      <td>False</td>\n",
              "      <td>False</td>\n",
              "      <td>False</td>\n",
              "      <td>False</td>\n",
              "      <td>False</td>\n",
              "      <td>False</td>\n",
              "      <td>False</td>\n",
              "    </tr>\n",
              "    <tr>\n",
              "      <th>76</th>\n",
              "      <td>False</td>\n",
              "      <td>False</td>\n",
              "      <td>False</td>\n",
              "      <td>False</td>\n",
              "      <td>False</td>\n",
              "      <td>False</td>\n",
              "      <td>False</td>\n",
              "      <td>False</td>\n",
              "      <td>False</td>\n",
              "      <td>False</td>\n",
              "      <td>False</td>\n",
              "      <td>False</td>\n",
              "      <td>False</td>\n",
              "      <td>False</td>\n",
              "      <td>False</td>\n",
              "    </tr>\n",
              "  </tbody>\n",
              "</table>\n",
              "<p>77 rows × 15 columns</p>\n",
              "</div>"
            ],
            "text/plain": [
              "    จังหวัด  รหัสจังหวัด   2549   2550  ...   2558   2559   2560   2561\n",
              "0     False        False  False  False  ...  False  False  False  False\n",
              "1     False        False  False  False  ...  False  False  False  False\n",
              "2     False        False  False  False  ...  False  False  False  False\n",
              "3     False        False  False  False  ...  False  False  False  False\n",
              "4     False        False  False  False  ...  False  False  False  False\n",
              "..      ...          ...    ...    ...  ...    ...    ...    ...    ...\n",
              "72    False        False  False  False  ...  False  False  False  False\n",
              "73    False        False  False  False  ...  False  False  False  False\n",
              "74    False        False  False  False  ...  False  False  False  False\n",
              "75    False        False  False  False  ...  False  False  False  False\n",
              "76    False        False  False  False  ...  False  False  False  False\n",
              "\n",
              "[77 rows x 15 columns]"
            ]
          },
          "metadata": {
            "tags": []
          },
          "execution_count": 396
        }
      ]
    },
    {
      "cell_type": "code",
      "metadata": {
        "id": "iUb-KV67drM4",
        "colab": {
          "base_uri": "https://localhost:8080/"
        },
        "outputId": "6f8b38d6-1c45-43c5-b1f8-ed7375cdaf0e"
      },
      "source": [
        "visitors_df.isnull().any()"
      ],
      "execution_count": 397,
      "outputs": [
        {
          "output_type": "execute_result",
          "data": {
            "text/plain": [
              "จังหวัด        False\n",
              "รหัสจังหวัด    False\n",
              "2549            True\n",
              "2550            True\n",
              "2551            True\n",
              "2552            True\n",
              "2553            True\n",
              "2554           False\n",
              "2555           False\n",
              "2556           False\n",
              "2557           False\n",
              "2558           False\n",
              "2559           False\n",
              "2560           False\n",
              "2561           False\n",
              "dtype: bool"
            ]
          },
          "metadata": {
            "tags": []
          },
          "execution_count": 397
        }
      ]
    },
    {
      "cell_type": "code",
      "metadata": {
        "id": "mD19V7Ndds4H"
      },
      "source": [
        "visitors_df_nm = visitors_df.dropna()"
      ],
      "execution_count": 398,
      "outputs": []
    },
    {
      "cell_type": "code",
      "metadata": {
        "id": "vBiwYW2cdu1Y",
        "colab": {
          "base_uri": "https://localhost:8080/"
        },
        "outputId": "2096498f-5ca5-4142-b994-5a1c2f2345ab"
      },
      "source": [
        "visitors_df_nm.isnull().any().any()"
      ],
      "execution_count": 399,
      "outputs": [
        {
          "output_type": "execute_result",
          "data": {
            "text/plain": [
              "False"
            ]
          },
          "metadata": {
            "tags": []
          },
          "execution_count": 399
        }
      ]
    },
    {
      "cell_type": "code",
      "metadata": {
        "id": "W9m0VWxQdwxI",
        "colab": {
          "base_uri": "https://localhost:8080/"
        },
        "outputId": "b5f51892-f727-4135-bd45-0d88db09f44e"
      },
      "source": [
        "print(visitors_df.shape)\n",
        "print(visitors_df_nm.shape)"
      ],
      "execution_count": 400,
      "outputs": [
        {
          "output_type": "stream",
          "text": [
            "(77, 15)\n",
            "(76, 15)\n"
          ],
          "name": "stdout"
        }
      ]
    },
    {
      "cell_type": "markdown",
      "metadata": {
        "id": "HS1vkFpzeR0A"
      },
      "source": [
        "##การตรวจสอบว่า การลบข้อมูล missing ออก\n",
        "จากตาราง dnp_attraction และ visitors จะทำให้ข้อมูลลดลงกี่ %"
      ]
    },
    {
      "cell_type": "code",
      "metadata": {
        "id": "aUkvxOKrd_gg",
        "colab": {
          "base_uri": "https://localhost:8080/"
        },
        "outputId": "44342a07-7275-42d8-f381-d8878adde9e5"
      },
      "source": [
        "size_before_drop = dnp_attraction_df.shape[0]\n",
        "size_after_drop = dnp_attraction_df.dropna().shape[0]\n",
        "\n",
        "print(f'size before drop = {size_before_drop} \\nsize after drop = {size_after_drop} \\\n",
        "    \\nwhich is {100*((size_before_drop-size_after_drop)/size_before_drop)}')"
      ],
      "execution_count": 401,
      "outputs": [
        {
          "output_type": "stream",
          "text": [
            "size before drop = 1431 \n",
            "size after drop = 16     \n",
            "which is 98.88190076869321\n"
          ],
          "name": "stdout"
        }
      ]
    },
    {
      "cell_type": "code",
      "metadata": {
        "id": "ywbsVa9JeBWR",
        "colab": {
          "base_uri": "https://localhost:8080/"
        },
        "outputId": "a993b83c-9a45-4656-fa53-237a8e8dc0d1"
      },
      "source": [
        "size_before_drop = visitors_df.shape[0]\n",
        "size_after_drop = visitors_df.dropna().shape[0]\n",
        "\n",
        "print(f'size before drop = {size_before_drop} \\nsize after drop = {size_after_drop} \\\n",
        "    \\nwhich is {100*((size_before_drop-size_after_drop)/size_before_drop)}')"
      ],
      "execution_count": 402,
      "outputs": [
        {
          "output_type": "stream",
          "text": [
            "size before drop = 77 \n",
            "size after drop = 76     \n",
            "which is 1.2987012987012987\n"
          ],
          "name": "stdout"
        }
      ]
    },
    {
      "cell_type": "markdown",
      "metadata": {
        "id": "PydgGSFkfC6H"
      },
      "source": [
        "วิธีที่ 2 เต็มค่าที่เหมาะสม"
      ]
    },
    {
      "cell_type": "code",
      "metadata": {
        "id": "CBPAvIykfIde"
      },
      "source": [
        "dnp_attraction_df[['SubType-TH']] = dnp_attraction_df[['SubType-TH']].fillna(0)\n",
        "dnp_attraction_df[['SubType-EN']] = dnp_attraction_df[['SubType-EN']].fillna(0)\n",
        "dnp_attraction_df[['Attraction-name EN']] = dnp_attraction_df[['Attraction-name EN']].fillna(0)\n",
        "dnp_attraction_df[['Organization-Unit-EN']] = dnp_attraction_df[['Organization-Unit-EN']].fillna(0)\n",
        "dnp_attraction_df[['Latitude']] = dnp_attraction_df[['Latitude']].fillna(0)\n",
        "dnp_attraction_df[['Longtiude']] = dnp_attraction_df[['Longtiude']].fillna(0)\n",
        "dnp_attraction_df[['Open-Houre']] = dnp_attraction_df[['Open-Houre']].fillna(0)\n",
        "dnp_attraction_df[['Image-URL']] = dnp_attraction_df[['Image-URL']].fillna(0)\n",
        "dnp_attraction_df[['Facility']] = dnp_attraction_df[['Facility']].fillna(0)\n",
        "dnp_attraction_df[['Contact']] = dnp_attraction_df[['Contact']].fillna(0)\n",
        "dnp_attraction_df[['Province']] = dnp_attraction_df[['Province']].fillna(0)\n",
        "dnp_attraction_df[['District']] = dnp_attraction_df[['District']].fillna(0)\n",
        "dnp_attraction_df[['Subdistrict']] = dnp_attraction_df[['Subdistrict']].fillna(0)"
      ],
      "execution_count": 403,
      "outputs": []
    },
    {
      "cell_type": "code",
      "metadata": {
        "id": "5zlHJNg9hc5I",
        "colab": {
          "base_uri": "https://localhost:8080/"
        },
        "outputId": "5c2e2981-fa91-476d-e75d-82843e89151b"
      },
      "source": [
        "dnp_attraction_df.isnull().any()"
      ],
      "execution_count": 404,
      "outputs": [
        {
          "output_type": "execute_result",
          "data": {
            "text/plain": [
              "Type-TH                  True\n",
              "Type-EN                  True\n",
              "SubType-TH              False\n",
              "SubType-EN              False\n",
              "Attraction-name TH       True\n",
              "Attraction-name EN      False\n",
              "Organization-Unit-TH     True\n",
              "Organization-Unit-EN    False\n",
              "Latitude                False\n",
              "Longtiude               False\n",
              "Open-Houre              False\n",
              "Image-URL               False\n",
              "Facility                False\n",
              "Contact                 False\n",
              "Province                False\n",
              "District                False\n",
              "Subdistrict             False\n",
              "dtype: bool"
            ]
          },
          "metadata": {
            "tags": []
          },
          "execution_count": 404
        }
      ]
    },
    {
      "cell_type": "code",
      "metadata": {
        "id": "Xn0H5vpHnULm"
      },
      "source": [
        "visitors_df[['2549']] = visitors_df[['2549']].fillna(0)\n",
        "visitors_df[['2550']] = visitors_df[['2550']].fillna(0)\n",
        "visitors_df[['2551']] = visitors_df[['2551']].fillna(0)\n",
        "visitors_df[['2552']] = visitors_df[['2552']].fillna(0)\n",
        "visitors_df[['2553']] = visitors_df[['2553']].fillna(0)"
      ],
      "execution_count": 405,
      "outputs": []
    },
    {
      "cell_type": "code",
      "metadata": {
        "id": "YBFU6XYFoXGY",
        "colab": {
          "base_uri": "https://localhost:8080/"
        },
        "outputId": "5c177782-316e-4c18-ae2e-5e5d02447a27"
      },
      "source": [
        "visitors_df.isnull().any()"
      ],
      "execution_count": 406,
      "outputs": [
        {
          "output_type": "execute_result",
          "data": {
            "text/plain": [
              "จังหวัด        False\n",
              "รหัสจังหวัด    False\n",
              "2549           False\n",
              "2550           False\n",
              "2551           False\n",
              "2552           False\n",
              "2553           False\n",
              "2554           False\n",
              "2555           False\n",
              "2556           False\n",
              "2557           False\n",
              "2558           False\n",
              "2559           False\n",
              "2560           False\n",
              "2561           False\n",
              "dtype: bool"
            ]
          },
          "metadata": {
            "tags": []
          },
          "execution_count": 406
        }
      ]
    },
    {
      "cell_type": "markdown",
      "metadata": {
        "id": "cg4QH75Dpg1-"
      },
      "source": [
        "##merge two tables (.merge())"
      ]
    },
    {
      "cell_type": "code",
      "metadata": {
        "id": "7qB-zI0dpd5s",
        "colab": {
          "base_uri": "https://localhost:8080/",
          "height": 1000
        },
        "outputId": "a1b25ba1-b461-4bbe-8a5d-93e0bef89ec3"
      },
      "source": [
        "merged_table = dnp_attraction_df.merge(visitors_df,how='left',left_on='Province',right_on='จังหวัด')\n",
        "merged_table"
      ],
      "execution_count": 407,
      "outputs": [
        {
          "output_type": "execute_result",
          "data": {
            "text/html": [
              "<div>\n",
              "<style scoped>\n",
              "    .dataframe tbody tr th:only-of-type {\n",
              "        vertical-align: middle;\n",
              "    }\n",
              "\n",
              "    .dataframe tbody tr th {\n",
              "        vertical-align: top;\n",
              "    }\n",
              "\n",
              "    .dataframe thead th {\n",
              "        text-align: right;\n",
              "    }\n",
              "</style>\n",
              "<table border=\"1\" class=\"dataframe\">\n",
              "  <thead>\n",
              "    <tr style=\"text-align: right;\">\n",
              "      <th></th>\n",
              "      <th>Type-TH</th>\n",
              "      <th>Type-EN</th>\n",
              "      <th>SubType-TH</th>\n",
              "      <th>SubType-EN</th>\n",
              "      <th>Attraction-name TH</th>\n",
              "      <th>Attraction-name EN</th>\n",
              "      <th>Organization-Unit-TH</th>\n",
              "      <th>Organization-Unit-EN</th>\n",
              "      <th>Latitude</th>\n",
              "      <th>Longtiude</th>\n",
              "      <th>Open-Houre</th>\n",
              "      <th>Image-URL</th>\n",
              "      <th>Facility</th>\n",
              "      <th>Contact</th>\n",
              "      <th>Province</th>\n",
              "      <th>District</th>\n",
              "      <th>Subdistrict</th>\n",
              "      <th>จังหวัด</th>\n",
              "      <th>รหัสจังหวัด</th>\n",
              "      <th>2549</th>\n",
              "      <th>2550</th>\n",
              "      <th>2551</th>\n",
              "      <th>2552</th>\n",
              "      <th>2553</th>\n",
              "      <th>2554</th>\n",
              "      <th>2555</th>\n",
              "      <th>2556</th>\n",
              "      <th>2557</th>\n",
              "      <th>2558</th>\n",
              "      <th>2559</th>\n",
              "      <th>2560</th>\n",
              "      <th>2561</th>\n",
              "    </tr>\n",
              "  </thead>\n",
              "  <tbody>\n",
              "    <tr>\n",
              "      <th>0</th>\n",
              "      <td>สวนพฤกษศาสตร์</td>\n",
              "      <td>Botanical Garden</td>\n",
              "      <td>-</td>\n",
              "      <td>-</td>\n",
              "      <td>สวนพฤกษศาสตร์วังน้ำเย็น</td>\n",
              "      <td>Wang Nam Yen Botanical Garden</td>\n",
              "      <td>สำนักวิจัยการอนุรักษ์ป่าไม้และพันธุ์พืช</td>\n",
              "      <td>Forest and Plant Conservation Research Office</td>\n",
              "      <td>13.497</td>\n",
              "      <td>102.015</td>\n",
              "      <td>ทุกวัน (เวลาราชการ 8.30 น. -16.30 น.)</td>\n",
              "      <td>http://www.dnp.go.th/MFCD3/oganization/%E0%B8%...</td>\n",
              "      <td>-บ้านพัก ห้องประชุม</td>\n",
              "      <td>089-811-031</td>\n",
              "      <td>สระแก้ว</td>\n",
              "      <td>วังน้ำเย็น</td>\n",
              "      <td>ทุ่งมหาเจริญ</td>\n",
              "      <td>สระแก้ว</td>\n",
              "      <td>th-sk</td>\n",
              "      <td>1211832.0</td>\n",
              "      <td>1298204.0</td>\n",
              "      <td>1585812.0</td>\n",
              "      <td>1039512.0</td>\n",
              "      <td>1053226.0</td>\n",
              "      <td>1055807.0</td>\n",
              "      <td>1537656.0</td>\n",
              "      <td>1641734.0</td>\n",
              "      <td>1691752.0</td>\n",
              "      <td>1790612.0</td>\n",
              "      <td>2056132.0</td>\n",
              "      <td>2155142.0</td>\n",
              "      <td>2252606.0</td>\n",
              "    </tr>\n",
              "    <tr>\n",
              "      <th>1</th>\n",
              "      <td>สวนพฤกษศาสตร์</td>\n",
              "      <td>Botanical Garden</td>\n",
              "      <td>-</td>\n",
              "      <td>-</td>\n",
              "      <td>สวนพฤกษศาสตร์พุแค</td>\n",
              "      <td>Phu Khae Botanical Garden</td>\n",
              "      <td>สำนักวิจัยการอนุรักษ์ป่าไม้และพันธุ์พืช</td>\n",
              "      <td>Forest and Plant Conservation Research Office</td>\n",
              "      <td>14.6712</td>\n",
              "      <td>100.8846</td>\n",
              "      <td>ทุกวัน (เวลาราชการ 8.30 น. -16.30 น.)</td>\n",
              "      <td>http://saraburi.dnp.go.th/sever/saraburisite/w...</td>\n",
              "      <td>-บ้านพัก ห้องประชุม</td>\n",
              "      <td>036-347-457</td>\n",
              "      <td>สระบุรี</td>\n",
              "      <td>เฉลิมพระเกียรติ</td>\n",
              "      <td>พุแค</td>\n",
              "      <td>สระบุรี</td>\n",
              "      <td>th-sr</td>\n",
              "      <td>2467126.0</td>\n",
              "      <td>2573160.0</td>\n",
              "      <td>1902264.0</td>\n",
              "      <td>2348662.0</td>\n",
              "      <td>3124952.0</td>\n",
              "      <td>3323861.0</td>\n",
              "      <td>3611197.0</td>\n",
              "      <td>3758125.0</td>\n",
              "      <td>3671852.0</td>\n",
              "      <td>3901204.0</td>\n",
              "      <td>4033081.0</td>\n",
              "      <td>4204992.0</td>\n",
              "      <td>4356276.0</td>\n",
              "    </tr>\n",
              "    <tr>\n",
              "      <th>2</th>\n",
              "      <td>สวนพฤกษศาสตร์</td>\n",
              "      <td>Botanical Garden</td>\n",
              "      <td>-</td>\n",
              "      <td>-</td>\n",
              "      <td>สวนพฤกษศาสตร์บ้านเพ</td>\n",
              "      <td>Ban Phe Botanical Garden</td>\n",
              "      <td>สำนักวิจัยการอนุรักษ์ป่าไม้และพันธุ์พืช</td>\n",
              "      <td>Forest and Plant Conservation Research Office</td>\n",
              "      <td>12.6335</td>\n",
              "      <td>101.4586</td>\n",
              "      <td>ทุกวัน (เวลาราชการ 8.30 น. -16.30 น.)</td>\n",
              "      <td>0</td>\n",
              "      <td>-บ้านพัก ห้องประชุม</td>\n",
              "      <td>038-653-022</td>\n",
              "      <td>ระยอง</td>\n",
              "      <td>เมืองระยอง</td>\n",
              "      <td>แกลง</td>\n",
              "      <td>ระยอง</td>\n",
              "      <td>th-ry</td>\n",
              "      <td>3346871.0</td>\n",
              "      <td>3911140.0</td>\n",
              "      <td>4443413.0</td>\n",
              "      <td>3417196.0</td>\n",
              "      <td>4634970.0</td>\n",
              "      <td>4583551.0</td>\n",
              "      <td>5347954.0</td>\n",
              "      <td>5643533.0</td>\n",
              "      <td>6150336.0</td>\n",
              "      <td>6650710.0</td>\n",
              "      <td>6929843.0</td>\n",
              "      <td>7319948.0</td>\n",
              "      <td>7761662.0</td>\n",
              "    </tr>\n",
              "    <tr>\n",
              "      <th>3</th>\n",
              "      <td>สวนพฤกษศาสตร์</td>\n",
              "      <td>Botanical Garden</td>\n",
              "      <td>-</td>\n",
              "      <td>-</td>\n",
              "      <td>สวนพฤกษศาสตร์เขาหินซ้อน</td>\n",
              "      <td>Khao Hin Son Botanical Garden</td>\n",
              "      <td>สำนักวิจัยการอนุรักษ์ป่าไม้และพันธุ์พืช</td>\n",
              "      <td>Forest and Plant Conservation Research Office</td>\n",
              "      <td>13.7526</td>\n",
              "      <td>101.5064</td>\n",
              "      <td>ทุกวัน (เวลาราชการ 8.30 น. -16.30 น.)</td>\n",
              "      <td>http://www.khaohinsonbg.org/</td>\n",
              "      <td>-บ้านพัก ห้องประชุม</td>\n",
              "      <td>038-599-113, 038-554-920</td>\n",
              "      <td>ฉะเชิงเทรา</td>\n",
              "      <td>พนมสารคาม</td>\n",
              "      <td>เขาหินซ้อน</td>\n",
              "      <td>ฉะเชิงเทรา</td>\n",
              "      <td>th-cc</td>\n",
              "      <td>1672583.0</td>\n",
              "      <td>1768066.0</td>\n",
              "      <td>1914285.0</td>\n",
              "      <td>1662322.0</td>\n",
              "      <td>1738887.0</td>\n",
              "      <td>1358491.0</td>\n",
              "      <td>2615076.0</td>\n",
              "      <td>2740284.0</td>\n",
              "      <td>2794003.0</td>\n",
              "      <td>2934944.0</td>\n",
              "      <td>3047651.0</td>\n",
              "      <td>3239899.0</td>\n",
              "      <td>3408573.0</td>\n",
              "    </tr>\n",
              "    <tr>\n",
              "      <th>4</th>\n",
              "      <td>สวนพฤกษศาสตร์</td>\n",
              "      <td>Botanical Garden</td>\n",
              "      <td>-</td>\n",
              "      <td>-</td>\n",
              "      <td>สวนพฤกษศาสตร์เขาช่อง</td>\n",
              "      <td>Khao Chong Botanical Garden</td>\n",
              "      <td>สำนักวิจัยการอนุรักษ์ป่าไม้และพันธุ์พืช</td>\n",
              "      <td>Forest and Plant Conservation Research Office</td>\n",
              "      <td>7.5577</td>\n",
              "      <td>99.7761</td>\n",
              "      <td>ทุกวัน (เวลาราชการ 8.30 น. -16.30 น.)</td>\n",
              "      <td>0</td>\n",
              "      <td>-บ้านพัก ห้องประชุม</td>\n",
              "      <td>075-573-521</td>\n",
              "      <td>ตรัง</td>\n",
              "      <td>นาโยง</td>\n",
              "      <td>นาโยง</td>\n",
              "      <td>ตรัง</td>\n",
              "      <td>th-tg</td>\n",
              "      <td>726373.0</td>\n",
              "      <td>858638.0</td>\n",
              "      <td>993615.0</td>\n",
              "      <td>843606.0</td>\n",
              "      <td>1110021.0</td>\n",
              "      <td>1007717.0</td>\n",
              "      <td>1137961.0</td>\n",
              "      <td>1281663.0</td>\n",
              "      <td>1308968.0</td>\n",
              "      <td>1414663.0</td>\n",
              "      <td>1465811.0</td>\n",
              "      <td>1514092.0</td>\n",
              "      <td>1578906.0</td>\n",
              "    </tr>\n",
              "    <tr>\n",
              "      <th>...</th>\n",
              "      <td>...</td>\n",
              "      <td>...</td>\n",
              "      <td>...</td>\n",
              "      <td>...</td>\n",
              "      <td>...</td>\n",
              "      <td>...</td>\n",
              "      <td>...</td>\n",
              "      <td>...</td>\n",
              "      <td>...</td>\n",
              "      <td>...</td>\n",
              "      <td>...</td>\n",
              "      <td>...</td>\n",
              "      <td>...</td>\n",
              "      <td>...</td>\n",
              "      <td>...</td>\n",
              "      <td>...</td>\n",
              "      <td>...</td>\n",
              "      <td>...</td>\n",
              "      <td>...</td>\n",
              "      <td>...</td>\n",
              "      <td>...</td>\n",
              "      <td>...</td>\n",
              "      <td>...</td>\n",
              "      <td>...</td>\n",
              "      <td>...</td>\n",
              "      <td>...</td>\n",
              "      <td>...</td>\n",
              "      <td>...</td>\n",
              "      <td>...</td>\n",
              "      <td>...</td>\n",
              "      <td>...</td>\n",
              "      <td>...</td>\n",
              "    </tr>\n",
              "    <tr>\n",
              "      <th>1426</th>\n",
              "      <td>ทางทะเล</td>\n",
              "      <td>marine</td>\n",
              "      <td>ศิลปวัฒนธรรม / โบราณสถาน</td>\n",
              "      <td>Cultural / Historic Site</td>\n",
              "      <td>วัดกระดังงา</td>\n",
              "      <td>Khadunkgna Temple</td>\n",
              "      <td>อุทยานแห่งชาติหาดขนอม-หมู่เกาะทะเลใต้ (เตรียมการ)</td>\n",
              "      <td>Hat Khanom - Mu Ko Thale Tai National Park</td>\n",
              "      <td>0</td>\n",
              "      <td>0</td>\n",
              "      <td>0</td>\n",
              "      <td>http://park.dnp.go.th/dnp/scenicpic/9145914500...</td>\n",
              "      <td>0</td>\n",
              "      <td>075 528495</td>\n",
              "      <td>นครศรีธรรมราช</td>\n",
              "      <td>ขนอม</td>\n",
              "      <td>ขนอม</td>\n",
              "      <td>NaN</td>\n",
              "      <td>NaN</td>\n",
              "      <td>NaN</td>\n",
              "      <td>NaN</td>\n",
              "      <td>NaN</td>\n",
              "      <td>NaN</td>\n",
              "      <td>NaN</td>\n",
              "      <td>NaN</td>\n",
              "      <td>NaN</td>\n",
              "      <td>NaN</td>\n",
              "      <td>NaN</td>\n",
              "      <td>NaN</td>\n",
              "      <td>NaN</td>\n",
              "      <td>NaN</td>\n",
              "      <td>NaN</td>\n",
              "    </tr>\n",
              "    <tr>\n",
              "      <th>1427</th>\n",
              "      <td>ทางทะเล</td>\n",
              "      <td>marine</td>\n",
              "      <td>ทะเล / ชายหาด</td>\n",
              "      <td>Sea / Beach</td>\n",
              "      <td>หาดคอเขา</td>\n",
              "      <td>Khakhao Beach</td>\n",
              "      <td>อุทยานแห่งชาติหาดขนอม-หมู่เกาะทะเลใต้ (เตรียมการ)</td>\n",
              "      <td>Hat Khanom - Mu Ko Thale Tai National Park</td>\n",
              "      <td>0</td>\n",
              "      <td>0</td>\n",
              "      <td>0</td>\n",
              "      <td>http://park.dnp.go.th/dnp/scenicpic/9145914500...</td>\n",
              "      <td>0</td>\n",
              "      <td>075 528495</td>\n",
              "      <td>นครศรีธรรมราช</td>\n",
              "      <td>ขนอม</td>\n",
              "      <td>ขนอม</td>\n",
              "      <td>NaN</td>\n",
              "      <td>NaN</td>\n",
              "      <td>NaN</td>\n",
              "      <td>NaN</td>\n",
              "      <td>NaN</td>\n",
              "      <td>NaN</td>\n",
              "      <td>NaN</td>\n",
              "      <td>NaN</td>\n",
              "      <td>NaN</td>\n",
              "      <td>NaN</td>\n",
              "      <td>NaN</td>\n",
              "      <td>NaN</td>\n",
              "      <td>NaN</td>\n",
              "      <td>NaN</td>\n",
              "      <td>NaN</td>\n",
              "    </tr>\n",
              "    <tr>\n",
              "      <th>1428</th>\n",
              "      <td>ทางทะเล</td>\n",
              "      <td>marine</td>\n",
              "      <td>ทะเล / ชายหาด</td>\n",
              "      <td>Sea / Beach</td>\n",
              "      <td>หาดท้องหยี</td>\n",
              "      <td>Thonghyi Beach</td>\n",
              "      <td>อุทยานแห่งชาติหาดขนอม-หมู่เกาะทะเลใต้ (เตรียมการ)</td>\n",
              "      <td>Hat Khanom - Mu Ko Thale Tai National Park</td>\n",
              "      <td>0</td>\n",
              "      <td>0</td>\n",
              "      <td>0</td>\n",
              "      <td>http://park.dnp.go.th/dnp/scenicpic/9145914500...</td>\n",
              "      <td>0</td>\n",
              "      <td>075 528495</td>\n",
              "      <td>นครศรีธรรมราช</td>\n",
              "      <td>ขนอม</td>\n",
              "      <td>ขนอม</td>\n",
              "      <td>NaN</td>\n",
              "      <td>NaN</td>\n",
              "      <td>NaN</td>\n",
              "      <td>NaN</td>\n",
              "      <td>NaN</td>\n",
              "      <td>NaN</td>\n",
              "      <td>NaN</td>\n",
              "      <td>NaN</td>\n",
              "      <td>NaN</td>\n",
              "      <td>NaN</td>\n",
              "      <td>NaN</td>\n",
              "      <td>NaN</td>\n",
              "      <td>NaN</td>\n",
              "      <td>NaN</td>\n",
              "      <td>NaN</td>\n",
              "    </tr>\n",
              "    <tr>\n",
              "      <th>1429</th>\n",
              "      <td>ทางทะเล</td>\n",
              "      <td>marine</td>\n",
              "      <td>ทะเล / ชายหาด</td>\n",
              "      <td>Sea / Beach</td>\n",
              "      <td>หาดหน้าด่าน</td>\n",
              "      <td>Hardan Beach</td>\n",
              "      <td>อุทยานแห่งชาติหาดขนอม-หมู่เกาะทะเลใต้ (เตรียมการ)</td>\n",
              "      <td>Hat Khanom - Mu Ko Thale Tai National Park</td>\n",
              "      <td>0</td>\n",
              "      <td>0</td>\n",
              "      <td>0</td>\n",
              "      <td>http://park.dnp.go.th/dnp/scenicpic/9145914500...</td>\n",
              "      <td>0</td>\n",
              "      <td>075 528495</td>\n",
              "      <td>นครศรีธรรมราช</td>\n",
              "      <td>ขนอม</td>\n",
              "      <td>ขนอม</td>\n",
              "      <td>NaN</td>\n",
              "      <td>NaN</td>\n",
              "      <td>NaN</td>\n",
              "      <td>NaN</td>\n",
              "      <td>NaN</td>\n",
              "      <td>NaN</td>\n",
              "      <td>NaN</td>\n",
              "      <td>NaN</td>\n",
              "      <td>NaN</td>\n",
              "      <td>NaN</td>\n",
              "      <td>NaN</td>\n",
              "      <td>NaN</td>\n",
              "      <td>NaN</td>\n",
              "      <td>NaN</td>\n",
              "      <td>NaN</td>\n",
              "    </tr>\n",
              "    <tr>\n",
              "      <th>1430</th>\n",
              "      <td>ทางทะเล</td>\n",
              "      <td>marine</td>\n",
              "      <td>ทะเล / ชายหาด</td>\n",
              "      <td>Sea / Beach</td>\n",
              "      <td>หาดในเพลา</td>\n",
              "      <td>Had Naiplao</td>\n",
              "      <td>อุทยานแห่งชาติหาดขนอม-หมู่เกาะทะเลใต้ (เตรียมการ)</td>\n",
              "      <td>Hat Khanom - Mu Ko Thale Tai National Park</td>\n",
              "      <td>0</td>\n",
              "      <td>0</td>\n",
              "      <td>ช่วงมกราคม-เมษายน ,ตลอดทั้งปี ฯลฯ</td>\n",
              "      <td>http://park.dnp.go.th/dnp/scenicpic/9145914500...</td>\n",
              "      <td>0</td>\n",
              "      <td>075 528495</td>\n",
              "      <td>นครศรีธรรมราช</td>\n",
              "      <td>ขนอม</td>\n",
              "      <td>ขนอม</td>\n",
              "      <td>NaN</td>\n",
              "      <td>NaN</td>\n",
              "      <td>NaN</td>\n",
              "      <td>NaN</td>\n",
              "      <td>NaN</td>\n",
              "      <td>NaN</td>\n",
              "      <td>NaN</td>\n",
              "      <td>NaN</td>\n",
              "      <td>NaN</td>\n",
              "      <td>NaN</td>\n",
              "      <td>NaN</td>\n",
              "      <td>NaN</td>\n",
              "      <td>NaN</td>\n",
              "      <td>NaN</td>\n",
              "      <td>NaN</td>\n",
              "    </tr>\n",
              "  </tbody>\n",
              "</table>\n",
              "<p>1431 rows × 32 columns</p>\n",
              "</div>"
            ],
            "text/plain": [
              "            Type-TH           Type-EN  ...       2560       2561\n",
              "0     สวนพฤกษศาสตร์  Botanical Garden  ...  2155142.0  2252606.0\n",
              "1     สวนพฤกษศาสตร์  Botanical Garden  ...  4204992.0  4356276.0\n",
              "2     สวนพฤกษศาสตร์  Botanical Garden  ...  7319948.0  7761662.0\n",
              "3     สวนพฤกษศาสตร์  Botanical Garden  ...  3239899.0  3408573.0\n",
              "4     สวนพฤกษศาสตร์  Botanical Garden  ...  1514092.0  1578906.0\n",
              "...             ...               ...  ...        ...        ...\n",
              "1426        ทางทะเล            marine  ...        NaN        NaN\n",
              "1427        ทางทะเล            marine  ...        NaN        NaN\n",
              "1428        ทางทะเล            marine  ...        NaN        NaN\n",
              "1429        ทางทะเล            marine  ...        NaN        NaN\n",
              "1430        ทางทะเล            marine  ...        NaN        NaN\n",
              "\n",
              "[1431 rows x 32 columns]"
            ]
          },
          "metadata": {
            "tags": []
          },
          "execution_count": 407
        }
      ]
    },
    {
      "cell_type": "markdown",
      "metadata": {
        "id": "-ZV3vNZffwtW"
      },
      "source": [
        "##เพิ่ม Column 'SUM' ที่รวมจำนวนนักท่องเที่ยวในแต่ละจังหวัดตั้งแต่ปี2549-2561"
      ]
    },
    {
      "cell_type": "code",
      "metadata": {
        "colab": {
          "base_uri": "https://localhost:8080/",
          "height": 237
        },
        "id": "9iHKW9UufnSv",
        "outputId": "9b2d326d-f658-4e85-ce24-b5b9ff6567ef"
      },
      "source": [
        "# sum for rows\n",
        "df = visitors_df = pandas.read_csv(visitors)\n",
        "df['SUM'] = df['2549']+df['2550']+df['2551']+df['2552']+df['2553']+df['2554']+df['2555']+df['2556']+df['2557']+df['2558']+df['2559']+df['2560']+df['2561']\n",
        "df.head()"
      ],
      "execution_count": 456,
      "outputs": [
        {
          "output_type": "execute_result",
          "data": {
            "text/html": [
              "<div>\n",
              "<style scoped>\n",
              "    .dataframe tbody tr th:only-of-type {\n",
              "        vertical-align: middle;\n",
              "    }\n",
              "\n",
              "    .dataframe tbody tr th {\n",
              "        vertical-align: top;\n",
              "    }\n",
              "\n",
              "    .dataframe thead th {\n",
              "        text-align: right;\n",
              "    }\n",
              "</style>\n",
              "<table border=\"1\" class=\"dataframe\">\n",
              "  <thead>\n",
              "    <tr style=\"text-align: right;\">\n",
              "      <th></th>\n",
              "      <th>จังหวัด</th>\n",
              "      <th>รหัสจังหวัด</th>\n",
              "      <th>2549</th>\n",
              "      <th>2550</th>\n",
              "      <th>2551</th>\n",
              "      <th>2552</th>\n",
              "      <th>2553</th>\n",
              "      <th>2554</th>\n",
              "      <th>2555</th>\n",
              "      <th>2556</th>\n",
              "      <th>2557</th>\n",
              "      <th>2558</th>\n",
              "      <th>2559</th>\n",
              "      <th>2560</th>\n",
              "      <th>2561</th>\n",
              "      <th>SUM</th>\n",
              "    </tr>\n",
              "  </thead>\n",
              "  <tbody>\n",
              "    <tr>\n",
              "      <th>0</th>\n",
              "      <td>กรุงเทพมหานคร</td>\n",
              "      <td>th-bm</td>\n",
              "      <td>36172138.0</td>\n",
              "      <td>35953546.0</td>\n",
              "      <td>35110693.0</td>\n",
              "      <td>30037911.0</td>\n",
              "      <td>38222903.0</td>\n",
              "      <td>43763002</td>\n",
              "      <td>47185031</td>\n",
              "      <td>50568902</td>\n",
              "      <td>50972772</td>\n",
              "      <td>56515597</td>\n",
              "      <td>59196331</td>\n",
              "      <td>63575737</td>\n",
              "      <td>65534281</td>\n",
              "      <td>612808844.0</td>\n",
              "    </tr>\n",
              "    <tr>\n",
              "      <th>1</th>\n",
              "      <td>สมุทรปราการ</td>\n",
              "      <td>th-sp</td>\n",
              "      <td>958352.0</td>\n",
              "      <td>1262082.0</td>\n",
              "      <td>1875232.0</td>\n",
              "      <td>1292295.0</td>\n",
              "      <td>1291883.0</td>\n",
              "      <td>1489104</td>\n",
              "      <td>2107433</td>\n",
              "      <td>2204073</td>\n",
              "      <td>2350340</td>\n",
              "      <td>2780429</td>\n",
              "      <td>2900180</td>\n",
              "      <td>3218934</td>\n",
              "      <td>3373639</td>\n",
              "      <td>27103976.0</td>\n",
              "    </tr>\n",
              "    <tr>\n",
              "      <th>2</th>\n",
              "      <td>นนทบุรี</td>\n",
              "      <td>th-no</td>\n",
              "      <td>830593.0</td>\n",
              "      <td>1079877.0</td>\n",
              "      <td>973721.0</td>\n",
              "      <td>1373459.0</td>\n",
              "      <td>1792164.0</td>\n",
              "      <td>2004376</td>\n",
              "      <td>1663990</td>\n",
              "      <td>1700408</td>\n",
              "      <td>1730885</td>\n",
              "      <td>2045867</td>\n",
              "      <td>2090095</td>\n",
              "      <td>2514677</td>\n",
              "      <td>2664025</td>\n",
              "      <td>22464137.0</td>\n",
              "    </tr>\n",
              "    <tr>\n",
              "      <th>3</th>\n",
              "      <td>ปทุมธานี</td>\n",
              "      <td>th-pt</td>\n",
              "      <td>868449.0</td>\n",
              "      <td>1050674.0</td>\n",
              "      <td>798231.0</td>\n",
              "      <td>965318.0</td>\n",
              "      <td>1068529.0</td>\n",
              "      <td>1086433</td>\n",
              "      <td>1474292</td>\n",
              "      <td>1553170</td>\n",
              "      <td>1613073</td>\n",
              "      <td>1815389</td>\n",
              "      <td>1896549</td>\n",
              "      <td>2014281</td>\n",
              "      <td>2098344</td>\n",
              "      <td>18302732.0</td>\n",
              "    </tr>\n",
              "    <tr>\n",
              "      <th>4</th>\n",
              "      <td>พระนครศรีอยุธยา</td>\n",
              "      <td>th-pa</td>\n",
              "      <td>3373929.0</td>\n",
              "      <td>3784617.0</td>\n",
              "      <td>3659402.0</td>\n",
              "      <td>3583231.0</td>\n",
              "      <td>6534638.0</td>\n",
              "      <td>4890949</td>\n",
              "      <td>6066545</td>\n",
              "      <td>6226424</td>\n",
              "      <td>6698561</td>\n",
              "      <td>6994538</td>\n",
              "      <td>7216514</td>\n",
              "      <td>7631557</td>\n",
              "      <td>8349613</td>\n",
              "      <td>75010518.0</td>\n",
              "    </tr>\n",
              "  </tbody>\n",
              "</table>\n",
              "</div>"
            ],
            "text/plain": [
              "           จังหวัด รหัสจังหวัด        2549  ...      2560      2561          SUM\n",
              "0    กรุงเทพมหานคร       th-bm  36172138.0  ...  63575737  65534281  612808844.0\n",
              "1      สมุทรปราการ       th-sp    958352.0  ...   3218934   3373639   27103976.0\n",
              "2          นนทบุรี       th-no    830593.0  ...   2514677   2664025   22464137.0\n",
              "3         ปทุมธานี       th-pt    868449.0  ...   2014281   2098344   18302732.0\n",
              "4  พระนครศรีอยุธยา       th-pa   3373929.0  ...   7631557   8349613   75010518.0\n",
              "\n",
              "[5 rows x 16 columns]"
            ]
          },
          "metadata": {
            "tags": []
          },
          "execution_count": 456
        }
      ]
    },
    {
      "cell_type": "markdown",
      "metadata": {
        "id": "p3F81hvYcLIB"
      },
      "source": [
        "ค่าเฉลี่ยจำนวนนักท่องเที่ยวในปี2549-2561 เท่ากับ 34,626,780"
      ]
    },
    {
      "cell_type": "code",
      "metadata": {
        "colab": {
          "base_uri": "https://localhost:8080/"
        },
        "id": "Px_-lU3RhHa3",
        "outputId": "5cb6d8ff-e526-473d-88c8-680da948acd1"
      },
      "source": [
        "df.mean()"
      ],
      "execution_count": 409,
      "outputs": [
        {
          "output_type": "execute_result",
          "data": {
            "text/plain": [
              "2549    1.792726e+06\n",
              "2550    1.898702e+06\n",
              "2551    1.930408e+06\n",
              "2552    1.643016e+06\n",
              "2553    2.058383e+06\n",
              "2554    2.261278e+06\n",
              "2555    2.584253e+06\n",
              "2556    2.819642e+06\n",
              "2557    2.950993e+06\n",
              "2558    3.234714e+06\n",
              "2559    3.475489e+06\n",
              "2560    3.763939e+06\n",
              "2561    3.935314e+06\n",
              "SUM     3.462678e+07\n",
              "dtype: float64"
            ]
          },
          "metadata": {
            "tags": []
          },
          "execution_count": 409
        }
      ]
    },
    {
      "cell_type": "markdown",
      "metadata": {
        "id": "bLo-WYLZe2-W"
      },
      "source": [
        "## หาค่าเฉลี่ยจำนวนนักท่องเที่ยวในปี 2561"
      ]
    },
    {
      "cell_type": "code",
      "metadata": {
        "colab": {
          "base_uri": "https://localhost:8080/",
          "height": 411
        },
        "id": "rrIMJqqwe_3l",
        "outputId": "783dfb91-dd88-498b-f1d1-18b54704329e"
      },
      "source": [
        "v_table = visitors_df[['จังหวัด','2549','2550','2551','2552','2553','2554','2555','2556','2557','2558','2559','2560','2561']]\n",
        "v_table"
      ],
      "execution_count": 410,
      "outputs": [
        {
          "output_type": "execute_result",
          "data": {
            "text/html": [
              "<div>\n",
              "<style scoped>\n",
              "    .dataframe tbody tr th:only-of-type {\n",
              "        vertical-align: middle;\n",
              "    }\n",
              "\n",
              "    .dataframe tbody tr th {\n",
              "        vertical-align: top;\n",
              "    }\n",
              "\n",
              "    .dataframe thead th {\n",
              "        text-align: right;\n",
              "    }\n",
              "</style>\n",
              "<table border=\"1\" class=\"dataframe\">\n",
              "  <thead>\n",
              "    <tr style=\"text-align: right;\">\n",
              "      <th></th>\n",
              "      <th>จังหวัด</th>\n",
              "      <th>2549</th>\n",
              "      <th>2550</th>\n",
              "      <th>2551</th>\n",
              "      <th>2552</th>\n",
              "      <th>2553</th>\n",
              "      <th>2554</th>\n",
              "      <th>2555</th>\n",
              "      <th>2556</th>\n",
              "      <th>2557</th>\n",
              "      <th>2558</th>\n",
              "      <th>2559</th>\n",
              "      <th>2560</th>\n",
              "      <th>2561</th>\n",
              "    </tr>\n",
              "  </thead>\n",
              "  <tbody>\n",
              "    <tr>\n",
              "      <th>0</th>\n",
              "      <td>กรุงเทพมหานคร</td>\n",
              "      <td>36172138.0</td>\n",
              "      <td>35953546.0</td>\n",
              "      <td>35110693.0</td>\n",
              "      <td>30037911.0</td>\n",
              "      <td>38222903.0</td>\n",
              "      <td>43763002</td>\n",
              "      <td>47185031</td>\n",
              "      <td>50568902</td>\n",
              "      <td>50972772</td>\n",
              "      <td>56515597</td>\n",
              "      <td>59196331</td>\n",
              "      <td>63575737</td>\n",
              "      <td>65534281</td>\n",
              "    </tr>\n",
              "    <tr>\n",
              "      <th>1</th>\n",
              "      <td>สมุทรปราการ</td>\n",
              "      <td>958352.0</td>\n",
              "      <td>1262082.0</td>\n",
              "      <td>1875232.0</td>\n",
              "      <td>1292295.0</td>\n",
              "      <td>1291883.0</td>\n",
              "      <td>1489104</td>\n",
              "      <td>2107433</td>\n",
              "      <td>2204073</td>\n",
              "      <td>2350340</td>\n",
              "      <td>2780429</td>\n",
              "      <td>2900180</td>\n",
              "      <td>3218934</td>\n",
              "      <td>3373639</td>\n",
              "    </tr>\n",
              "    <tr>\n",
              "      <th>2</th>\n",
              "      <td>นนทบุรี</td>\n",
              "      <td>830593.0</td>\n",
              "      <td>1079877.0</td>\n",
              "      <td>973721.0</td>\n",
              "      <td>1373459.0</td>\n",
              "      <td>1792164.0</td>\n",
              "      <td>2004376</td>\n",
              "      <td>1663990</td>\n",
              "      <td>1700408</td>\n",
              "      <td>1730885</td>\n",
              "      <td>2045867</td>\n",
              "      <td>2090095</td>\n",
              "      <td>2514677</td>\n",
              "      <td>2664025</td>\n",
              "    </tr>\n",
              "    <tr>\n",
              "      <th>3</th>\n",
              "      <td>ปทุมธานี</td>\n",
              "      <td>868449.0</td>\n",
              "      <td>1050674.0</td>\n",
              "      <td>798231.0</td>\n",
              "      <td>965318.0</td>\n",
              "      <td>1068529.0</td>\n",
              "      <td>1086433</td>\n",
              "      <td>1474292</td>\n",
              "      <td>1553170</td>\n",
              "      <td>1613073</td>\n",
              "      <td>1815389</td>\n",
              "      <td>1896549</td>\n",
              "      <td>2014281</td>\n",
              "      <td>2098344</td>\n",
              "    </tr>\n",
              "    <tr>\n",
              "      <th>4</th>\n",
              "      <td>พระนครศรีอยุธยา</td>\n",
              "      <td>3373929.0</td>\n",
              "      <td>3784617.0</td>\n",
              "      <td>3659402.0</td>\n",
              "      <td>3583231.0</td>\n",
              "      <td>6534638.0</td>\n",
              "      <td>4890949</td>\n",
              "      <td>6066545</td>\n",
              "      <td>6226424</td>\n",
              "      <td>6698561</td>\n",
              "      <td>6994538</td>\n",
              "      <td>7216514</td>\n",
              "      <td>7631557</td>\n",
              "      <td>8349613</td>\n",
              "    </tr>\n",
              "    <tr>\n",
              "      <th>...</th>\n",
              "      <td>...</td>\n",
              "      <td>...</td>\n",
              "      <td>...</td>\n",
              "      <td>...</td>\n",
              "      <td>...</td>\n",
              "      <td>...</td>\n",
              "      <td>...</td>\n",
              "      <td>...</td>\n",
              "      <td>...</td>\n",
              "      <td>...</td>\n",
              "      <td>...</td>\n",
              "      <td>...</td>\n",
              "      <td>...</td>\n",
              "      <td>...</td>\n",
              "    </tr>\n",
              "    <tr>\n",
              "      <th>72</th>\n",
              "      <td>ตรัง</td>\n",
              "      <td>726373.0</td>\n",
              "      <td>858638.0</td>\n",
              "      <td>993615.0</td>\n",
              "      <td>843606.0</td>\n",
              "      <td>1110021.0</td>\n",
              "      <td>1007717</td>\n",
              "      <td>1137961</td>\n",
              "      <td>1281663</td>\n",
              "      <td>1308968</td>\n",
              "      <td>1414663</td>\n",
              "      <td>1465811</td>\n",
              "      <td>1514092</td>\n",
              "      <td>1578906</td>\n",
              "    </tr>\n",
              "    <tr>\n",
              "      <th>73</th>\n",
              "      <td>พัทลุง</td>\n",
              "      <td>448000.0</td>\n",
              "      <td>501320.0</td>\n",
              "      <td>853674.0</td>\n",
              "      <td>483058.0</td>\n",
              "      <td>939379.0</td>\n",
              "      <td>1119171</td>\n",
              "      <td>1089992</td>\n",
              "      <td>1178007</td>\n",
              "      <td>1236012</td>\n",
              "      <td>1326468</td>\n",
              "      <td>1487188</td>\n",
              "      <td>1569333</td>\n",
              "      <td>1641841</td>\n",
              "    </tr>\n",
              "    <tr>\n",
              "      <th>74</th>\n",
              "      <td>ปัตตานี</td>\n",
              "      <td>160320.0</td>\n",
              "      <td>131998.0</td>\n",
              "      <td>152748.0</td>\n",
              "      <td>201401.0</td>\n",
              "      <td>184153.0</td>\n",
              "      <td>179687</td>\n",
              "      <td>214285</td>\n",
              "      <td>235606</td>\n",
              "      <td>237925</td>\n",
              "      <td>251081</td>\n",
              "      <td>257143</td>\n",
              "      <td>272739</td>\n",
              "      <td>281988</td>\n",
              "    </tr>\n",
              "    <tr>\n",
              "      <th>75</th>\n",
              "      <td>ยะลา</td>\n",
              "      <td>282463.0</td>\n",
              "      <td>269368.0</td>\n",
              "      <td>311712.0</td>\n",
              "      <td>300570.0</td>\n",
              "      <td>373269.0</td>\n",
              "      <td>335968</td>\n",
              "      <td>429044</td>\n",
              "      <td>563771</td>\n",
              "      <td>589653</td>\n",
              "      <td>622376</td>\n",
              "      <td>624879</td>\n",
              "      <td>657317</td>\n",
              "      <td>680018</td>\n",
              "    </tr>\n",
              "    <tr>\n",
              "      <th>76</th>\n",
              "      <td>นราธิวาส</td>\n",
              "      <td>336473.0</td>\n",
              "      <td>284073.0</td>\n",
              "      <td>328729.0</td>\n",
              "      <td>430301.0</td>\n",
              "      <td>547235.0</td>\n",
              "      <td>479524</td>\n",
              "      <td>489944</td>\n",
              "      <td>570973</td>\n",
              "      <td>589690</td>\n",
              "      <td>635910</td>\n",
              "      <td>646020</td>\n",
              "      <td>665710</td>\n",
              "      <td>692057</td>\n",
              "    </tr>\n",
              "  </tbody>\n",
              "</table>\n",
              "<p>77 rows × 14 columns</p>\n",
              "</div>"
            ],
            "text/plain": [
              "            จังหวัด        2549        2550  ...      2559      2560      2561\n",
              "0     กรุงเทพมหานคร  36172138.0  35953546.0  ...  59196331  63575737  65534281\n",
              "1       สมุทรปราการ    958352.0   1262082.0  ...   2900180   3218934   3373639\n",
              "2           นนทบุรี    830593.0   1079877.0  ...   2090095   2514677   2664025\n",
              "3          ปทุมธานี    868449.0   1050674.0  ...   1896549   2014281   2098344\n",
              "4   พระนครศรีอยุธยา   3373929.0   3784617.0  ...   7216514   7631557   8349613\n",
              "..              ...         ...         ...  ...       ...       ...       ...\n",
              "72             ตรัง    726373.0    858638.0  ...   1465811   1514092   1578906\n",
              "73           พัทลุง    448000.0    501320.0  ...   1487188   1569333   1641841\n",
              "74          ปัตตานี    160320.0    131998.0  ...    257143    272739    281988\n",
              "75             ยะลา    282463.0    269368.0  ...    624879    657317    680018\n",
              "76         นราธิวาส    336473.0    284073.0  ...    646020    665710    692057\n",
              "\n",
              "[77 rows x 14 columns]"
            ]
          },
          "metadata": {
            "tags": []
          },
          "execution_count": 410
        }
      ]
    },
    {
      "cell_type": "code",
      "metadata": {
        "colab": {
          "base_uri": "https://localhost:8080/"
        },
        "id": "jyL-2inQe_sV",
        "outputId": "c1b90f9b-d388-4e02-b308-7f118a243e12"
      },
      "source": [
        "v_table_m = v_table['2561']\n",
        "v_table_m"
      ],
      "execution_count": 411,
      "outputs": [
        {
          "output_type": "execute_result",
          "data": {
            "text/plain": [
              "0     65534281\n",
              "1      3373639\n",
              "2      2664025\n",
              "3      2098344\n",
              "4      8349613\n",
              "        ...   \n",
              "72     1578906\n",
              "73     1641841\n",
              "74      281988\n",
              "75      680018\n",
              "76      692057\n",
              "Name: 2561, Length: 77, dtype: int64"
            ]
          },
          "metadata": {
            "tags": []
          },
          "execution_count": 411
        }
      ]
    },
    {
      "cell_type": "markdown",
      "metadata": {
        "id": "oMR-d3QYfYPt"
      },
      "source": [
        "## จำนวนนักท่องเที่ยวเฉลี่ยในปี 2561 เท่ากับ 3,935,314.4415584416 คน"
      ]
    },
    {
      "cell_type": "code",
      "metadata": {
        "colab": {
          "base_uri": "https://localhost:8080/"
        },
        "id": "AC3ODW6tfX6T",
        "outputId": "f1fe086b-1e57-46e3-f02f-4b8ca48b7ea0"
      },
      "source": [
        "v_table_m.mean()"
      ],
      "execution_count": 412,
      "outputs": [
        {
          "output_type": "execute_result",
          "data": {
            "text/plain": [
              "3935314.4415584416"
            ]
          },
          "metadata": {
            "tags": []
          },
          "execution_count": 412
        }
      ]
    },
    {
      "cell_type": "markdown",
      "metadata": {
        "id": "zKZ3V_lkQFFw"
      },
      "source": [
        "##วิธีเช็ค Summary ของแต่ละคอลัมน์ (count, min, max, mean)"
      ]
    },
    {
      "cell_type": "code",
      "metadata": {
        "colab": {
          "base_uri": "https://localhost:8080/",
          "height": 311
        },
        "id": "DETF8KZVQElL",
        "outputId": "0d0feeb2-3f2f-4de8-c421-c9982bee7b05"
      },
      "source": [
        "merged_table.describe()"
      ],
      "execution_count": 413,
      "outputs": [
        {
          "output_type": "execute_result",
          "data": {
            "text/html": [
              "<div>\n",
              "<style scoped>\n",
              "    .dataframe tbody tr th:only-of-type {\n",
              "        vertical-align: middle;\n",
              "    }\n",
              "\n",
              "    .dataframe tbody tr th {\n",
              "        vertical-align: top;\n",
              "    }\n",
              "\n",
              "    .dataframe thead th {\n",
              "        text-align: right;\n",
              "    }\n",
              "</style>\n",
              "<table border=\"1\" class=\"dataframe\">\n",
              "  <thead>\n",
              "    <tr style=\"text-align: right;\">\n",
              "      <th></th>\n",
              "      <th>2549</th>\n",
              "      <th>2550</th>\n",
              "      <th>2551</th>\n",
              "      <th>2552</th>\n",
              "      <th>2553</th>\n",
              "      <th>2554</th>\n",
              "      <th>2555</th>\n",
              "      <th>2556</th>\n",
              "      <th>2557</th>\n",
              "      <th>2558</th>\n",
              "      <th>2559</th>\n",
              "      <th>2560</th>\n",
              "      <th>2561</th>\n",
              "    </tr>\n",
              "  </thead>\n",
              "  <tbody>\n",
              "    <tr>\n",
              "      <th>count</th>\n",
              "      <td>1.310000e+02</td>\n",
              "      <td>1.310000e+02</td>\n",
              "      <td>1.310000e+02</td>\n",
              "      <td>1.310000e+02</td>\n",
              "      <td>1.310000e+02</td>\n",
              "      <td>1.310000e+02</td>\n",
              "      <td>1.310000e+02</td>\n",
              "      <td>1.310000e+02</td>\n",
              "      <td>1.310000e+02</td>\n",
              "      <td>1.310000e+02</td>\n",
              "      <td>1.310000e+02</td>\n",
              "      <td>1.310000e+02</td>\n",
              "      <td>1.310000e+02</td>\n",
              "    </tr>\n",
              "    <tr>\n",
              "      <th>mean</th>\n",
              "      <td>1.634992e+06</td>\n",
              "      <td>1.711585e+06</td>\n",
              "      <td>1.685350e+06</td>\n",
              "      <td>1.414458e+06</td>\n",
              "      <td>1.746423e+06</td>\n",
              "      <td>1.988627e+06</td>\n",
              "      <td>2.296990e+06</td>\n",
              "      <td>2.605167e+06</td>\n",
              "      <td>2.903934e+06</td>\n",
              "      <td>3.132514e+06</td>\n",
              "      <td>3.371522e+06</td>\n",
              "      <td>3.659830e+06</td>\n",
              "      <td>3.830910e+06</td>\n",
              "    </tr>\n",
              "    <tr>\n",
              "      <th>std</th>\n",
              "      <td>1.569444e+06</td>\n",
              "      <td>1.559765e+06</td>\n",
              "      <td>1.532100e+06</td>\n",
              "      <td>1.289458e+06</td>\n",
              "      <td>1.726696e+06</td>\n",
              "      <td>1.912585e+06</td>\n",
              "      <td>2.058732e+06</td>\n",
              "      <td>2.250758e+06</td>\n",
              "      <td>2.506335e+06</td>\n",
              "      <td>2.694890e+06</td>\n",
              "      <td>3.033289e+06</td>\n",
              "      <td>3.245927e+06</td>\n",
              "      <td>3.409037e+06</td>\n",
              "    </tr>\n",
              "    <tr>\n",
              "      <th>min</th>\n",
              "      <td>1.603200e+05</td>\n",
              "      <td>1.319980e+05</td>\n",
              "      <td>1.527480e+05</td>\n",
              "      <td>2.014010e+05</td>\n",
              "      <td>1.841530e+05</td>\n",
              "      <td>1.796870e+05</td>\n",
              "      <td>2.142850e+05</td>\n",
              "      <td>2.356060e+05</td>\n",
              "      <td>2.379250e+05</td>\n",
              "      <td>2.510810e+05</td>\n",
              "      <td>2.571430e+05</td>\n",
              "      <td>2.727390e+05</td>\n",
              "      <td>2.819880e+05</td>\n",
              "    </tr>\n",
              "    <tr>\n",
              "      <th>25%</th>\n",
              "      <td>6.604800e+05</td>\n",
              "      <td>6.701545e+05</td>\n",
              "      <td>7.682280e+05</td>\n",
              "      <td>5.586295e+05</td>\n",
              "      <td>6.173010e+05</td>\n",
              "      <td>6.995740e+05</td>\n",
              "      <td>7.300055e+05</td>\n",
              "      <td>7.754710e+05</td>\n",
              "      <td>8.089150e+05</td>\n",
              "      <td>8.809890e+05</td>\n",
              "      <td>9.707240e+05</td>\n",
              "      <td>1.006934e+06</td>\n",
              "      <td>1.074060e+06</td>\n",
              "    </tr>\n",
              "    <tr>\n",
              "      <th>50%</th>\n",
              "      <td>1.075715e+06</td>\n",
              "      <td>1.216586e+06</td>\n",
              "      <td>1.152509e+06</td>\n",
              "      <td>9.265520e+05</td>\n",
              "      <td>1.044467e+06</td>\n",
              "      <td>1.055807e+06</td>\n",
              "      <td>1.612978e+06</td>\n",
              "      <td>2.158682e+06</td>\n",
              "      <td>2.368563e+06</td>\n",
              "      <td>2.666113e+06</td>\n",
              "      <td>2.753289e+06</td>\n",
              "      <td>3.125937e+06</td>\n",
              "      <td>3.243323e+06</td>\n",
              "    </tr>\n",
              "    <tr>\n",
              "      <th>75%</th>\n",
              "      <td>2.111204e+06</td>\n",
              "      <td>2.058790e+06</td>\n",
              "      <td>1.908274e+06</td>\n",
              "      <td>1.998454e+06</td>\n",
              "      <td>2.135462e+06</td>\n",
              "      <td>2.423186e+06</td>\n",
              "      <td>2.751104e+06</td>\n",
              "      <td>2.971886e+06</td>\n",
              "      <td>3.730398e+06</td>\n",
              "      <td>4.176738e+06</td>\n",
              "      <td>4.475223e+06</td>\n",
              "      <td>4.740683e+06</td>\n",
              "      <td>4.868330e+06</td>\n",
              "    </tr>\n",
              "    <tr>\n",
              "      <th>max</th>\n",
              "      <td>7.236704e+06</td>\n",
              "      <td>7.882541e+06</td>\n",
              "      <td>7.067325e+06</td>\n",
              "      <td>5.649895e+06</td>\n",
              "      <td>1.006229e+07</td>\n",
              "      <td>1.082337e+07</td>\n",
              "      <td>1.122440e+07</td>\n",
              "      <td>1.173649e+07</td>\n",
              "      <td>1.084341e+07</td>\n",
              "      <td>1.174222e+07</td>\n",
              "      <td>1.625201e+07</td>\n",
              "      <td>1.740316e+07</td>\n",
              "      <td>1.821154e+07</td>\n",
              "    </tr>\n",
              "  </tbody>\n",
              "</table>\n",
              "</div>"
            ],
            "text/plain": [
              "               2549          2550  ...          2560          2561\n",
              "count  1.310000e+02  1.310000e+02  ...  1.310000e+02  1.310000e+02\n",
              "mean   1.634992e+06  1.711585e+06  ...  3.659830e+06  3.830910e+06\n",
              "std    1.569444e+06  1.559765e+06  ...  3.245927e+06  3.409037e+06\n",
              "min    1.603200e+05  1.319980e+05  ...  2.727390e+05  2.819880e+05\n",
              "25%    6.604800e+05  6.701545e+05  ...  1.006934e+06  1.074060e+06\n",
              "50%    1.075715e+06  1.216586e+06  ...  3.125937e+06  3.243323e+06\n",
              "75%    2.111204e+06  2.058790e+06  ...  4.740683e+06  4.868330e+06\n",
              "max    7.236704e+06  7.882541e+06  ...  1.740316e+07  1.821154e+07\n",
              "\n",
              "[8 rows x 13 columns]"
            ]
          },
          "metadata": {
            "tags": []
          },
          "execution_count": 413
        }
      ]
    },
    {
      "cell_type": "markdown",
      "metadata": {
        "id": "QovT96wbCVUc"
      },
      "source": [
        "##เพื่อหาดูว่าจังหวัดไหนบ้างที่มีสถานที่ท่องเที่ยวเป็นสวนพฤกษศาสตร์"
      ]
    },
    {
      "cell_type": "code",
      "metadata": {
        "id": "UvTHy1ZZgmP8",
        "colab": {
          "base_uri": "https://localhost:8080/",
          "height": 411
        },
        "outputId": "46cce266-546a-4cce-e25a-29a35eb130fd"
      },
      "source": [
        "new_table = merged_table[['จังหวัด','Type-TH','Attraction-name TH','Open-Houre']]\n",
        "new_table"
      ],
      "execution_count": 414,
      "outputs": [
        {
          "output_type": "execute_result",
          "data": {
            "text/html": [
              "<div>\n",
              "<style scoped>\n",
              "    .dataframe tbody tr th:only-of-type {\n",
              "        vertical-align: middle;\n",
              "    }\n",
              "\n",
              "    .dataframe tbody tr th {\n",
              "        vertical-align: top;\n",
              "    }\n",
              "\n",
              "    .dataframe thead th {\n",
              "        text-align: right;\n",
              "    }\n",
              "</style>\n",
              "<table border=\"1\" class=\"dataframe\">\n",
              "  <thead>\n",
              "    <tr style=\"text-align: right;\">\n",
              "      <th></th>\n",
              "      <th>จังหวัด</th>\n",
              "      <th>Type-TH</th>\n",
              "      <th>Attraction-name TH</th>\n",
              "      <th>Open-Houre</th>\n",
              "    </tr>\n",
              "  </thead>\n",
              "  <tbody>\n",
              "    <tr>\n",
              "      <th>0</th>\n",
              "      <td>สระแก้ว</td>\n",
              "      <td>สวนพฤกษศาสตร์</td>\n",
              "      <td>สวนพฤกษศาสตร์วังน้ำเย็น</td>\n",
              "      <td>ทุกวัน (เวลาราชการ 8.30 น. -16.30 น.)</td>\n",
              "    </tr>\n",
              "    <tr>\n",
              "      <th>1</th>\n",
              "      <td>สระบุรี</td>\n",
              "      <td>สวนพฤกษศาสตร์</td>\n",
              "      <td>สวนพฤกษศาสตร์พุแค</td>\n",
              "      <td>ทุกวัน (เวลาราชการ 8.30 น. -16.30 น.)</td>\n",
              "    </tr>\n",
              "    <tr>\n",
              "      <th>2</th>\n",
              "      <td>ระยอง</td>\n",
              "      <td>สวนพฤกษศาสตร์</td>\n",
              "      <td>สวนพฤกษศาสตร์บ้านเพ</td>\n",
              "      <td>ทุกวัน (เวลาราชการ 8.30 น. -16.30 น.)</td>\n",
              "    </tr>\n",
              "    <tr>\n",
              "      <th>3</th>\n",
              "      <td>ฉะเชิงเทรา</td>\n",
              "      <td>สวนพฤกษศาสตร์</td>\n",
              "      <td>สวนพฤกษศาสตร์เขาหินซ้อน</td>\n",
              "      <td>ทุกวัน (เวลาราชการ 8.30 น. -16.30 น.)</td>\n",
              "    </tr>\n",
              "    <tr>\n",
              "      <th>4</th>\n",
              "      <td>ตรัง</td>\n",
              "      <td>สวนพฤกษศาสตร์</td>\n",
              "      <td>สวนพฤกษศาสตร์เขาช่อง</td>\n",
              "      <td>ทุกวัน (เวลาราชการ 8.30 น. -16.30 น.)</td>\n",
              "    </tr>\n",
              "    <tr>\n",
              "      <th>...</th>\n",
              "      <td>...</td>\n",
              "      <td>...</td>\n",
              "      <td>...</td>\n",
              "      <td>...</td>\n",
              "    </tr>\n",
              "    <tr>\n",
              "      <th>1426</th>\n",
              "      <td>NaN</td>\n",
              "      <td>ทางทะเล</td>\n",
              "      <td>วัดกระดังงา</td>\n",
              "      <td>0</td>\n",
              "    </tr>\n",
              "    <tr>\n",
              "      <th>1427</th>\n",
              "      <td>NaN</td>\n",
              "      <td>ทางทะเล</td>\n",
              "      <td>หาดคอเขา</td>\n",
              "      <td>0</td>\n",
              "    </tr>\n",
              "    <tr>\n",
              "      <th>1428</th>\n",
              "      <td>NaN</td>\n",
              "      <td>ทางทะเล</td>\n",
              "      <td>หาดท้องหยี</td>\n",
              "      <td>0</td>\n",
              "    </tr>\n",
              "    <tr>\n",
              "      <th>1429</th>\n",
              "      <td>NaN</td>\n",
              "      <td>ทางทะเล</td>\n",
              "      <td>หาดหน้าด่าน</td>\n",
              "      <td>0</td>\n",
              "    </tr>\n",
              "    <tr>\n",
              "      <th>1430</th>\n",
              "      <td>NaN</td>\n",
              "      <td>ทางทะเล</td>\n",
              "      <td>หาดในเพลา</td>\n",
              "      <td>ช่วงมกราคม-เมษายน ,ตลอดทั้งปี ฯลฯ</td>\n",
              "    </tr>\n",
              "  </tbody>\n",
              "</table>\n",
              "<p>1431 rows × 4 columns</p>\n",
              "</div>"
            ],
            "text/plain": [
              "         จังหวัด  ...                             Open-Houre\n",
              "0        สระแก้ว  ...  ทุกวัน (เวลาราชการ 8.30 น. -16.30 น.)\n",
              "1        สระบุรี  ...  ทุกวัน (เวลาราชการ 8.30 น. -16.30 น.)\n",
              "2          ระยอง  ...  ทุกวัน (เวลาราชการ 8.30 น. -16.30 น.)\n",
              "3     ฉะเชิงเทรา  ...  ทุกวัน (เวลาราชการ 8.30 น. -16.30 น.)\n",
              "4           ตรัง  ...  ทุกวัน (เวลาราชการ 8.30 น. -16.30 น.)\n",
              "...          ...  ...                                    ...\n",
              "1426         NaN  ...                                      0\n",
              "1427         NaN  ...                                      0\n",
              "1428         NaN  ...                                      0\n",
              "1429         NaN  ...                                      0\n",
              "1430         NaN  ...      ช่วงมกราคม-เมษายน ,ตลอดทั้งปี ฯลฯ\n",
              "\n",
              "[1431 rows x 4 columns]"
            ]
          },
          "metadata": {
            "tags": []
          },
          "execution_count": 414
        }
      ]
    },
    {
      "cell_type": "code",
      "metadata": {
        "id": "03W4LQh5gmUz",
        "colab": {
          "base_uri": "https://localhost:8080/"
        },
        "outputId": "0f857f3e-2e0e-48b2-e3bb-25919d409b9a"
      },
      "source": [
        "selected_list = merged_table['Type-TH']=='สวนพฤกษศาสตร์'\n",
        "selected_list"
      ],
      "execution_count": 415,
      "outputs": [
        {
          "output_type": "execute_result",
          "data": {
            "text/plain": [
              "0        True\n",
              "1        True\n",
              "2        True\n",
              "3        True\n",
              "4        True\n",
              "        ...  \n",
              "1426    False\n",
              "1427    False\n",
              "1428    False\n",
              "1429    False\n",
              "1430    False\n",
              "Name: Type-TH, Length: 1431, dtype: bool"
            ]
          },
          "metadata": {
            "tags": []
          },
          "execution_count": 415
        }
      ]
    },
    {
      "cell_type": "code",
      "metadata": {
        "id": "tMiN3zKxgmb1",
        "colab": {
          "base_uri": "https://localhost:8080/",
          "height": 200
        },
        "outputId": "f5434103-87b5-4d7f-cf17-bec216e267a0"
      },
      "source": [
        "new_table[selected_list].head()"
      ],
      "execution_count": 416,
      "outputs": [
        {
          "output_type": "execute_result",
          "data": {
            "text/html": [
              "<div>\n",
              "<style scoped>\n",
              "    .dataframe tbody tr th:only-of-type {\n",
              "        vertical-align: middle;\n",
              "    }\n",
              "\n",
              "    .dataframe tbody tr th {\n",
              "        vertical-align: top;\n",
              "    }\n",
              "\n",
              "    .dataframe thead th {\n",
              "        text-align: right;\n",
              "    }\n",
              "</style>\n",
              "<table border=\"1\" class=\"dataframe\">\n",
              "  <thead>\n",
              "    <tr style=\"text-align: right;\">\n",
              "      <th></th>\n",
              "      <th>จังหวัด</th>\n",
              "      <th>Type-TH</th>\n",
              "      <th>Attraction-name TH</th>\n",
              "      <th>Open-Houre</th>\n",
              "    </tr>\n",
              "  </thead>\n",
              "  <tbody>\n",
              "    <tr>\n",
              "      <th>0</th>\n",
              "      <td>สระแก้ว</td>\n",
              "      <td>สวนพฤกษศาสตร์</td>\n",
              "      <td>สวนพฤกษศาสตร์วังน้ำเย็น</td>\n",
              "      <td>ทุกวัน (เวลาราชการ 8.30 น. -16.30 น.)</td>\n",
              "    </tr>\n",
              "    <tr>\n",
              "      <th>1</th>\n",
              "      <td>สระบุรี</td>\n",
              "      <td>สวนพฤกษศาสตร์</td>\n",
              "      <td>สวนพฤกษศาสตร์พุแค</td>\n",
              "      <td>ทุกวัน (เวลาราชการ 8.30 น. -16.30 น.)</td>\n",
              "    </tr>\n",
              "    <tr>\n",
              "      <th>2</th>\n",
              "      <td>ระยอง</td>\n",
              "      <td>สวนพฤกษศาสตร์</td>\n",
              "      <td>สวนพฤกษศาสตร์บ้านเพ</td>\n",
              "      <td>ทุกวัน (เวลาราชการ 8.30 น. -16.30 น.)</td>\n",
              "    </tr>\n",
              "    <tr>\n",
              "      <th>3</th>\n",
              "      <td>ฉะเชิงเทรา</td>\n",
              "      <td>สวนพฤกษศาสตร์</td>\n",
              "      <td>สวนพฤกษศาสตร์เขาหินซ้อน</td>\n",
              "      <td>ทุกวัน (เวลาราชการ 8.30 น. -16.30 น.)</td>\n",
              "    </tr>\n",
              "    <tr>\n",
              "      <th>4</th>\n",
              "      <td>ตรัง</td>\n",
              "      <td>สวนพฤกษศาสตร์</td>\n",
              "      <td>สวนพฤกษศาสตร์เขาช่อง</td>\n",
              "      <td>ทุกวัน (เวลาราชการ 8.30 น. -16.30 น.)</td>\n",
              "    </tr>\n",
              "  </tbody>\n",
              "</table>\n",
              "</div>"
            ],
            "text/plain": [
              "      จังหวัด  ...                             Open-Houre\n",
              "0     สระแก้ว  ...  ทุกวัน (เวลาราชการ 8.30 น. -16.30 น.)\n",
              "1     สระบุรี  ...  ทุกวัน (เวลาราชการ 8.30 น. -16.30 น.)\n",
              "2       ระยอง  ...  ทุกวัน (เวลาราชการ 8.30 น. -16.30 น.)\n",
              "3  ฉะเชิงเทรา  ...  ทุกวัน (เวลาราชการ 8.30 น. -16.30 น.)\n",
              "4        ตรัง  ...  ทุกวัน (เวลาราชการ 8.30 น. -16.30 น.)\n",
              "\n",
              "[5 rows x 4 columns]"
            ]
          },
          "metadata": {
            "tags": []
          },
          "execution_count": 416
        }
      ]
    },
    {
      "cell_type": "markdown",
      "metadata": {
        "id": "-v9C0sgDXfbn"
      },
      "source": [
        "##[PD] select data"
      ]
    },
    {
      "cell_type": "code",
      "metadata": {
        "colab": {
          "base_uri": "https://localhost:8080/",
          "height": 411
        },
        "id": "f_NehIlKUSSE",
        "outputId": "5b4607a4-4ad9-4b4b-f89f-8dd1149e2a2b"
      },
      "source": [
        "new_table = merged_table[['จังหวัด','Type-TH','2561']]\n",
        "new_table"
      ],
      "execution_count": 458,
      "outputs": [
        {
          "output_type": "execute_result",
          "data": {
            "text/html": [
              "<div>\n",
              "<style scoped>\n",
              "    .dataframe tbody tr th:only-of-type {\n",
              "        vertical-align: middle;\n",
              "    }\n",
              "\n",
              "    .dataframe tbody tr th {\n",
              "        vertical-align: top;\n",
              "    }\n",
              "\n",
              "    .dataframe thead th {\n",
              "        text-align: right;\n",
              "    }\n",
              "</style>\n",
              "<table border=\"1\" class=\"dataframe\">\n",
              "  <thead>\n",
              "    <tr style=\"text-align: right;\">\n",
              "      <th></th>\n",
              "      <th>จังหวัด</th>\n",
              "      <th>Type-TH</th>\n",
              "      <th>2561</th>\n",
              "    </tr>\n",
              "  </thead>\n",
              "  <tbody>\n",
              "    <tr>\n",
              "      <th>0</th>\n",
              "      <td>สระแก้ว</td>\n",
              "      <td>สวนพฤกษศาสตร์</td>\n",
              "      <td>2252606.0</td>\n",
              "    </tr>\n",
              "    <tr>\n",
              "      <th>1</th>\n",
              "      <td>สระบุรี</td>\n",
              "      <td>สวนพฤกษศาสตร์</td>\n",
              "      <td>4356276.0</td>\n",
              "    </tr>\n",
              "    <tr>\n",
              "      <th>2</th>\n",
              "      <td>ระยอง</td>\n",
              "      <td>สวนพฤกษศาสตร์</td>\n",
              "      <td>7761662.0</td>\n",
              "    </tr>\n",
              "    <tr>\n",
              "      <th>3</th>\n",
              "      <td>ฉะเชิงเทรา</td>\n",
              "      <td>สวนพฤกษศาสตร์</td>\n",
              "      <td>3408573.0</td>\n",
              "    </tr>\n",
              "    <tr>\n",
              "      <th>4</th>\n",
              "      <td>ตรัง</td>\n",
              "      <td>สวนพฤกษศาสตร์</td>\n",
              "      <td>1578906.0</td>\n",
              "    </tr>\n",
              "    <tr>\n",
              "      <th>...</th>\n",
              "      <td>...</td>\n",
              "      <td>...</td>\n",
              "      <td>...</td>\n",
              "    </tr>\n",
              "    <tr>\n",
              "      <th>1426</th>\n",
              "      <td>NaN</td>\n",
              "      <td>ทางทะเล</td>\n",
              "      <td>NaN</td>\n",
              "    </tr>\n",
              "    <tr>\n",
              "      <th>1427</th>\n",
              "      <td>NaN</td>\n",
              "      <td>ทางทะเล</td>\n",
              "      <td>NaN</td>\n",
              "    </tr>\n",
              "    <tr>\n",
              "      <th>1428</th>\n",
              "      <td>NaN</td>\n",
              "      <td>ทางทะเล</td>\n",
              "      <td>NaN</td>\n",
              "    </tr>\n",
              "    <tr>\n",
              "      <th>1429</th>\n",
              "      <td>NaN</td>\n",
              "      <td>ทางทะเล</td>\n",
              "      <td>NaN</td>\n",
              "    </tr>\n",
              "    <tr>\n",
              "      <th>1430</th>\n",
              "      <td>NaN</td>\n",
              "      <td>ทางทะเล</td>\n",
              "      <td>NaN</td>\n",
              "    </tr>\n",
              "  </tbody>\n",
              "</table>\n",
              "<p>1431 rows × 3 columns</p>\n",
              "</div>"
            ],
            "text/plain": [
              "         จังหวัด        Type-TH       2561\n",
              "0        สระแก้ว  สวนพฤกษศาสตร์  2252606.0\n",
              "1        สระบุรี  สวนพฤกษศาสตร์  4356276.0\n",
              "2          ระยอง  สวนพฤกษศาสตร์  7761662.0\n",
              "3     ฉะเชิงเทรา  สวนพฤกษศาสตร์  3408573.0\n",
              "4           ตรัง  สวนพฤกษศาสตร์  1578906.0\n",
              "...          ...            ...        ...\n",
              "1426         NaN        ทางทะเล        NaN\n",
              "1427         NaN        ทางทะเล        NaN\n",
              "1428         NaN        ทางทะเล        NaN\n",
              "1429         NaN        ทางทะเล        NaN\n",
              "1430         NaN        ทางทะเล        NaN\n",
              "\n",
              "[1431 rows x 3 columns]"
            ]
          },
          "metadata": {
            "tags": []
          },
          "execution_count": 458
        }
      ]
    },
    {
      "cell_type": "code",
      "metadata": {
        "colab": {
          "base_uri": "https://localhost:8080/"
        },
        "id": "3NIDE5dGXd6o",
        "outputId": "ca56bc52-c690-443e-eafb-5cc1c926684f"
      },
      "source": [
        "selected_list = new_table['จังหวัด']=='ขอนแก่น'\n",
        "selected_list"
      ],
      "execution_count": 418,
      "outputs": [
        {
          "output_type": "execute_result",
          "data": {
            "text/plain": [
              "0       False\n",
              "1       False\n",
              "2       False\n",
              "3       False\n",
              "4       False\n",
              "        ...  \n",
              "1426    False\n",
              "1427    False\n",
              "1428    False\n",
              "1429    False\n",
              "1430    False\n",
              "Name: จังหวัด, Length: 1431, dtype: bool"
            ]
          },
          "metadata": {
            "tags": []
          },
          "execution_count": 418
        }
      ]
    },
    {
      "cell_type": "code",
      "metadata": {
        "colab": {
          "base_uri": "https://localhost:8080/",
          "height": 139
        },
        "id": "_B4QLB2VXdtO",
        "outputId": "dbb2d724-af63-45e8-e2ab-34ecad3e38e4"
      },
      "source": [
        "new_table[selected_list].head()"
      ],
      "execution_count": 419,
      "outputs": [
        {
          "output_type": "execute_result",
          "data": {
            "text/html": [
              "<div>\n",
              "<style scoped>\n",
              "    .dataframe tbody tr th:only-of-type {\n",
              "        vertical-align: middle;\n",
              "    }\n",
              "\n",
              "    .dataframe tbody tr th {\n",
              "        vertical-align: top;\n",
              "    }\n",
              "\n",
              "    .dataframe thead th {\n",
              "        text-align: right;\n",
              "    }\n",
              "</style>\n",
              "<table border=\"1\" class=\"dataframe\">\n",
              "  <thead>\n",
              "    <tr style=\"text-align: right;\">\n",
              "      <th></th>\n",
              "      <th>จังหวัด</th>\n",
              "      <th>2561</th>\n",
              "      <th>Type-TH</th>\n",
              "    </tr>\n",
              "  </thead>\n",
              "  <tbody>\n",
              "    <tr>\n",
              "      <th>39</th>\n",
              "      <td>ขอนแก่น</td>\n",
              "      <td>5302795.0</td>\n",
              "      <td>สวนรุกขชาติ</td>\n",
              "    </tr>\n",
              "    <tr>\n",
              "      <th>40</th>\n",
              "      <td>ขอนแก่น</td>\n",
              "      <td>5302795.0</td>\n",
              "      <td>สวนรุกขชาติ</td>\n",
              "    </tr>\n",
              "    <tr>\n",
              "      <th>71</th>\n",
              "      <td>ขอนแก่น</td>\n",
              "      <td>5302795.0</td>\n",
              "      <td>ศูนย์กีฏวิทยาป่าไม้</td>\n",
              "    </tr>\n",
              "  </tbody>\n",
              "</table>\n",
              "</div>"
            ],
            "text/plain": [
              "    จังหวัด       2561              Type-TH\n",
              "39  ขอนแก่น  5302795.0          สวนรุกขชาติ\n",
              "40  ขอนแก่น  5302795.0          สวนรุกขชาติ\n",
              "71  ขอนแก่น  5302795.0  ศูนย์กีฏวิทยาป่าไม้"
            ]
          },
          "metadata": {
            "tags": []
          },
          "execution_count": 419
        }
      ]
    },
    {
      "cell_type": "code",
      "metadata": {
        "id": "hk4zH13EXy1n",
        "colab": {
          "base_uri": "https://localhost:8080/"
        },
        "outputId": "b53003b6-84ca-4654-95ff-b039cf86fc21"
      },
      "source": [
        "new_table[new_table['จังหวัด']=='ขอนแก่น'].dropna()['2561'].mean()"
      ],
      "execution_count": 420,
      "outputs": [
        {
          "output_type": "execute_result",
          "data": {
            "text/plain": [
              "5302795.0"
            ]
          },
          "metadata": {
            "tags": []
          },
          "execution_count": 420
        }
      ]
    },
    {
      "cell_type": "markdown",
      "metadata": {
        "id": "-7R-kwc0GgPq"
      },
      "source": [
        "###เพื่อดูความสัมพันธ์ว่าในแต่ละจังหวัดมีสถานที่ท่องเที่ยวอะไรบ้าง"
      ]
    },
    {
      "cell_type": "code",
      "metadata": {
        "id": "Hrx5tLgbgmNX",
        "colab": {
          "base_uri": "https://localhost:8080/"
        },
        "outputId": "1752a98a-e09e-4c1e-afc5-e3fd5e5568c2"
      },
      "source": [
        "transacs = merged_table.groupby('จังหวัด')['Type-TH'].apply(list)\n",
        "transacs"
      ],
      "execution_count": 421,
      "outputs": [
        {
          "output_type": "execute_result",
          "data": {
            "text/plain": [
              "จังหวัด\n",
              "กาญจนบุรี                                                 [ทางบก]\n",
              "ขอนแก่น           [สวนรุกขชาติ, สวนรุกขชาติ, ศูนย์กีฏวิทยาป่าไม้]\n",
              "จันทบุรี                                    [ศูนย์กีฏวิทยาป่าไม้]\n",
              "ฉะเชิงเทรา                           [สวนพฤกษศาสตร์, สวนรุกขชาติ]\n",
              "ชลบุรี                     [สวนรุกขชาติ, สถานีเพาะเลี้ยงสัตว์ป่า]\n",
              "ชัยภูมิ         [สวนรุกขชาติ, สวนรุกขชาติ, สถานีเพาะเลี้ยงสัตว...\n",
              "ตรัง                               [สวนพฤกษศาสตร์, สวนพฤกษศาสตร์]\n",
              "นครพนม                                              [สวนรุกขชาติ]\n",
              "นครสวรรค์                                           [สวนรุกขชาติ]\n",
              "นราธิวาส                        [สวนพฤกษศาสตร์, สวนรวมพรรณไม้ป่า]\n",
              "น่าน                                   [สวนรุกขชาติ, สวนรุกขชาติ]\n",
              "ปัตตานี                                             [สวนรุกขชาติ]\n",
              "พังงา           [สถานีเพาะเลี้ยงสัตว์ป่า, ทางบก, ทางบก, ทางบก,...\n",
              "พัทลุง                                            [สวนพฤกษศาสตร์]\n",
              "พิจิตร                                              [สวนรุกขชาติ]\n",
              "พิษณุโลก                                          [สวนพฤกษศาสตร์]\n",
              "มหาสารคาม                              [สวนรุกขชาติ, สวนรุกขชาติ]\n",
              "มุกดาหาร                                            [สวนรุกขชาติ]\n",
              "ระนอง           [สวนรุกขชาติ, ทางทะเล, ทางทะเล, ทางทะเล, ทางทะ...\n",
              "ระยอง                                             [สวนพฤกษศาสตร์]\n",
              "ราชบุรี         [สวนพฤกษศาสตร์วรรณคดี, สวนรวมพรรณไม้ป่า, สวนรุ...\n",
              "ร้อยเอ็ด         [สวนพฤกษศาสตร์วรรณคดี, สวนรุกขชาติ, สวนรุกขชาติ]\n",
              "ลพบุรี                                              [สวนรุกขชาติ]\n",
              "ศรีสะเกษ                                            [สวนรุกขชาติ]\n",
              "สงขลา           [สวนพฤกษศาสตร์วรรณคดี, สวนรุกขชาติ, ทางบก, ทาง...\n",
              "สระบุรี                              [สวนพฤกษศาสตร์, สวนรุกขชาติ]\n",
              "สระแก้ว                              [สวนพฤกษศาสตร์, สวนรุกขชาติ]\n",
              "สิงห์บุรี                                           [สวนรุกขชาติ]\n",
              "สุพรรณบุรี                                   [สวนรุกขชาติ, ทางบก]\n",
              "สุราษฎร์ธานี            [สวนรุกขชาติ, ทางบก, ทางบก, ทางบก, ทางบก]\n",
              "สุโขทัย                                             [สวนรุกขชาติ]\n",
              "หนองคาย                                [สวนรุกขชาติ, สวนรุกขชาติ]\n",
              "อุดรธานี                          [สวนรวมพรรณไม้ป่า, สวนรุกขชาติ]\n",
              "อุตรดิตถ์                                           [สวนรุกขชาติ]\n",
              "อุบลราชธานี     [สวนพฤกษศาสตร์, สวนรุกขชาติ, ทางบก, ทางบก, ทาง...\n",
              "เชียงราย                                                  [ทางบก]\n",
              "เชียงใหม่       [สวนพฤกษศาสตร์วรรณคดี, สวนรวมพรรณไม้ป่า, สวนรุ...\n",
              "เพชรบุรี                                [สถานีเพาะเลี้ยงสัตว์ป่า]\n",
              "เพชรบูรณ์                               [สถานีเพาะเลี้ยงสัตว์ป่า]\n",
              "เลย                                    [สวนรุกขชาติ, สวนรุกขชาติ]\n",
              "แพร่                      [สวนรุกขชาติ, สวนรุกขชาติ, สวนรุกขชาติ]\n",
              "แม่ฮ่องสอน      [สวนรุกขชาติ, สวนรุกขชาติ, สวนรุกขชาติ, สวนรุก...\n",
              "Name: Type-TH, dtype: object"
            ]
          },
          "metadata": {
            "tags": []
          },
          "execution_count": 421
        }
      ]
    },
    {
      "cell_type": "markdown",
      "metadata": {
        "id": "CC2gwi7DGoia"
      },
      "source": [
        "##Apriori"
      ]
    },
    {
      "cell_type": "code",
      "metadata": {
        "colab": {
          "base_uri": "https://localhost:8080/"
        },
        "id": "3NAuqeoPGfn8",
        "outputId": "a46de6f0-8fd3-4b19-c5f5-4d6401941624"
      },
      "source": [
        "!pip install apyori"
      ],
      "execution_count": 422,
      "outputs": [
        {
          "output_type": "stream",
          "text": [
            "Requirement already satisfied: apyori in /usr/local/lib/python3.6/dist-packages (1.1.2)\n"
          ],
          "name": "stdout"
        }
      ]
    },
    {
      "cell_type": "code",
      "metadata": {
        "id": "P7De6Kq2Gwno"
      },
      "source": [
        "from apyori import apriori"
      ],
      "execution_count": 423,
      "outputs": []
    },
    {
      "cell_type": "code",
      "metadata": {
        "colab": {
          "base_uri": "https://localhost:8080/"
        },
        "id": "yxYuhhidmP-k",
        "outputId": "04c64d05-12b9-4ebd-d7f0-12c3f13b32a3"
      },
      "source": [
        "list(apriori(transacs, min_support = 0.07, min_confidence = 0.7)) \n"
      ],
      "execution_count": 463,
      "outputs": [
        {
          "output_type": "execute_result",
          "data": {
            "text/plain": [
              "[RelationRecord(items=frozenset({'สวนรุกขชาติ'}), support=0.7380952380952381, ordered_statistics=[OrderedStatistic(items_base=frozenset(), items_add=frozenset({'สวนรุกขชาติ'}), confidence=0.7380952380952381, lift=1.0)]),\n",
              " RelationRecord(items=frozenset({'ทางบก', 'สวนพฤกษศาสตร์วรรณคดี'}), support=0.07142857142857142, ordered_statistics=[OrderedStatistic(items_base=frozenset({'สวนพฤกษศาสตร์วรรณคดี'}), items_add=frozenset({'ทางบก'}), confidence=0.75, lift=2.8636363636363633)]),\n",
              " RelationRecord(items=frozenset({'ทางบก', 'สวนรุกขชาติ'}), support=0.19047619047619047, ordered_statistics=[OrderedStatistic(items_base=frozenset({'ทางบก'}), items_add=frozenset({'สวนรุกขชาติ'}), confidence=0.7272727272727272, lift=0.9853372434017593)]),\n",
              " RelationRecord(items=frozenset({'สวนรุกขชาติ', 'สวนพฤกษศาสตร์วรรณคดี'}), support=0.09523809523809523, ordered_statistics=[OrderedStatistic(items_base=frozenset({'สวนพฤกษศาสตร์วรรณคดี'}), items_add=frozenset({'สวนรุกขชาติ'}), confidence=1.0, lift=1.3548387096774193)]),\n",
              " RelationRecord(items=frozenset({'สวนรวมพรรณไม้ป่า', 'สวนรุกขชาติ'}), support=0.07142857142857142, ordered_statistics=[OrderedStatistic(items_base=frozenset({'สวนรวมพรรณไม้ป่า'}), items_add=frozenset({'สวนรุกขชาติ'}), confidence=0.75, lift=1.0161290322580645)]),\n",
              " RelationRecord(items=frozenset({'สวนรุกขชาติ', 'ทางบก', 'สวนพฤกษศาสตร์วรรณคดี'}), support=0.07142857142857142, ordered_statistics=[OrderedStatistic(items_base=frozenset({'สวนพฤกษศาสตร์วรรณคดี'}), items_add=frozenset({'ทางบก', 'สวนรุกขชาติ'}), confidence=0.75, lift=3.9375), OrderedStatistic(items_base=frozenset({'ทางบก', 'สวนพฤกษศาสตร์วรรณคดี'}), items_add=frozenset({'สวนรุกขชาติ'}), confidence=1.0, lift=1.3548387096774193), OrderedStatistic(items_base=frozenset({'สวนรุกขชาติ', 'สวนพฤกษศาสตร์วรรณคดี'}), items_add=frozenset({'ทางบก'}), confidence=0.75, lift=2.8636363636363633)])]"
            ]
          },
          "metadata": {
            "tags": []
          },
          "execution_count": 463
        }
      ]
    },
    {
      "cell_type": "markdown",
      "metadata": {
        "id": "PE0aGjSkWlps"
      },
      "source": [
        "สรุปนักท่องเที่ยวส่วนใหญ่มักจะไปที่ \n",
        "- ทางบก และ สวนพฤกษศาสตร์วรรณคดี  ด้วยเท่ากับ 75% โดยมีค่า lift=2.86\n",
        "- สวนรวมพรรณไม้ป่า และ สวนรุกขชาติ   ด้วยเท่ากับ 75%  โดยมีค่า lift=1.02\n",
        "- สวนพฤกษศาสตร์วรรณคดี ต่อด้วย ทางบกกับสวนรุกขชาติ ด้วยเท่ากับ 75%  โดยมีค่า lift=3.94 ซึ่งมากกว่าคู่อื่น\n"
      ]
    },
    {
      "cell_type": "markdown",
      "metadata": {
        "id": "St_RV1JGAt3X"
      },
      "source": [
        "##นักท่องเที่ยวจังหวัดขอนแก่นไปเที่ยวที่ไหนบ้าง"
      ]
    },
    {
      "cell_type": "code",
      "metadata": {
        "colab": {
          "base_uri": "https://localhost:8080/",
          "height": 449
        },
        "id": "X4qYpPPMI_ia",
        "outputId": "29ba4e94-fc46-484d-a627-62159633633c"
      },
      "source": [
        "KK_table = merged_table['จังหวัด']=='ขอนแก่น'\n",
        "KK = merged_table[KK_table]\n",
        "KK"
      ],
      "execution_count": 425,
      "outputs": [
        {
          "output_type": "execute_result",
          "data": {
            "text/html": [
              "<div>\n",
              "<style scoped>\n",
              "    .dataframe tbody tr th:only-of-type {\n",
              "        vertical-align: middle;\n",
              "    }\n",
              "\n",
              "    .dataframe tbody tr th {\n",
              "        vertical-align: top;\n",
              "    }\n",
              "\n",
              "    .dataframe thead th {\n",
              "        text-align: right;\n",
              "    }\n",
              "</style>\n",
              "<table border=\"1\" class=\"dataframe\">\n",
              "  <thead>\n",
              "    <tr style=\"text-align: right;\">\n",
              "      <th></th>\n",
              "      <th>Type-TH</th>\n",
              "      <th>Type-EN</th>\n",
              "      <th>SubType-TH</th>\n",
              "      <th>SubType-EN</th>\n",
              "      <th>Attraction-name TH</th>\n",
              "      <th>Attraction-name EN</th>\n",
              "      <th>Organization-Unit-TH</th>\n",
              "      <th>Organization-Unit-EN</th>\n",
              "      <th>Latitude</th>\n",
              "      <th>Longtiude</th>\n",
              "      <th>Open-Houre</th>\n",
              "      <th>Image-URL</th>\n",
              "      <th>Facility</th>\n",
              "      <th>Contact</th>\n",
              "      <th>Province</th>\n",
              "      <th>District</th>\n",
              "      <th>Subdistrict</th>\n",
              "      <th>จังหวัด</th>\n",
              "      <th>รหัสจังหวัด</th>\n",
              "      <th>2549</th>\n",
              "      <th>2550</th>\n",
              "      <th>2551</th>\n",
              "      <th>2552</th>\n",
              "      <th>2553</th>\n",
              "      <th>2554</th>\n",
              "      <th>2555</th>\n",
              "      <th>2556</th>\n",
              "      <th>2557</th>\n",
              "      <th>2558</th>\n",
              "      <th>2559</th>\n",
              "      <th>2560</th>\n",
              "      <th>2561</th>\n",
              "    </tr>\n",
              "  </thead>\n",
              "  <tbody>\n",
              "    <tr>\n",
              "      <th>39</th>\n",
              "      <td>สวนรุกขชาติ</td>\n",
              "      <td>Arboretum</td>\n",
              "      <td>สวนรุกขชาติเขาสวนกวาง</td>\n",
              "      <td>Khao Suan Kwang Arboretum</td>\n",
              "      <td>สวนรุกขชาติเขาสวนกวาง</td>\n",
              "      <td>Khao Suan Kwang Arboretum</td>\n",
              "      <td>สำนักวิจัยการอนุรักษ์ป่าไม้และพันธุ์พืช</td>\n",
              "      <td>Forest and Plant Conservation Reseach Office</td>\n",
              "      <td>16.8301498</td>\n",
              "      <td>102.9215309</td>\n",
              "      <td>ทุกวัน 08.00 - 17.00 น.</td>\n",
              "      <td>0</td>\n",
              "      <td>อาคารศูนย์บริการข้อมูลและแสดงนิทรรศการ 1 หลัง ...</td>\n",
              "      <td>659 ม.14 ถ.มิตรภาพ ต.ศิลา อ.เมือง จ. ขอนแก่น 4...</td>\n",
              "      <td>ขอนแก่น</td>\n",
              "      <td>เขาสวนกวาง</td>\n",
              "      <td>คำม่วง</td>\n",
              "      <td>ขอนแก่น</td>\n",
              "      <td>th-kk</td>\n",
              "      <td>2458854.0</td>\n",
              "      <td>2570011.0</td>\n",
              "      <td>2393512.0</td>\n",
              "      <td>2443631.0</td>\n",
              "      <td>2749436.0</td>\n",
              "      <td>3210374.0</td>\n",
              "      <td>3247176.0</td>\n",
              "      <td>3593042.0</td>\n",
              "      <td>3669884.0</td>\n",
              "      <td>3881646.0</td>\n",
              "      <td>4556656.0</td>\n",
              "      <td>5060143.0</td>\n",
              "      <td>5302795.0</td>\n",
              "    </tr>\n",
              "    <tr>\n",
              "      <th>40</th>\n",
              "      <td>สวนรุกขชาติ</td>\n",
              "      <td>Arboretum</td>\n",
              "      <td>สวนรุกขชาติลุ่มน้ำพอง (โสกแต้)</td>\n",
              "      <td>Lumnampong (Soktae) Arboretum</td>\n",
              "      <td>สวนรุกขชาติลุ่มน้ำพอง (โสกแต้)</td>\n",
              "      <td>Lumnampong (Soktae) Arboretum</td>\n",
              "      <td>สำนักวิจัยการอนุรักษ์ป่าไม้และพันธุ์พืช</td>\n",
              "      <td>Forest and Plant Conservation Reseach Office</td>\n",
              "      <td>16.578366</td>\n",
              "      <td>102.583684</td>\n",
              "      <td>ทุกวัน 08.00 - 17.00 น.</td>\n",
              "      <td>0</td>\n",
              "      <td>อาคารศูนย์บริการข้อมูลและแสดงนิทรรศการ 1 หลัง ...</td>\n",
              "      <td>659 ม.14 ถ.มิตรภาพ ต.ศิลา อ.เมือง จ.ขอนแก่น 40...</td>\n",
              "      <td>ขอนแก่น</td>\n",
              "      <td>ขอนแก่น</td>\n",
              "      <td>โคกงาม</td>\n",
              "      <td>ขอนแก่น</td>\n",
              "      <td>th-kk</td>\n",
              "      <td>2458854.0</td>\n",
              "      <td>2570011.0</td>\n",
              "      <td>2393512.0</td>\n",
              "      <td>2443631.0</td>\n",
              "      <td>2749436.0</td>\n",
              "      <td>3210374.0</td>\n",
              "      <td>3247176.0</td>\n",
              "      <td>3593042.0</td>\n",
              "      <td>3669884.0</td>\n",
              "      <td>3881646.0</td>\n",
              "      <td>4556656.0</td>\n",
              "      <td>5060143.0</td>\n",
              "      <td>5302795.0</td>\n",
              "    </tr>\n",
              "    <tr>\n",
              "      <th>71</th>\n",
              "      <td>ศูนย์กีฏวิทยาป่าไม้</td>\n",
              "      <td>Forest Entomology Research Center</td>\n",
              "      <td>ศูนย์กีฏวิทยาป่าไม้ที่ 2 (ขอนแก่น)</td>\n",
              "      <td>2nd Forest Entomology Research Center</td>\n",
              "      <td>ศูนย์กีฏวิทยาป่าไม้ที่ 2 (ขอนแก่น)</td>\n",
              "      <td>2nd Forest Entomology Research Center</td>\n",
              "      <td>สำนักวิจัยการอนุรักษ์ป่าไม้และพันธุ์พืช</td>\n",
              "      <td>Forest and Plant Conservation Reseach Office</td>\n",
              "      <td>16.85888</td>\n",
              "      <td>102.20916</td>\n",
              "      <td>8.30 - 16.30 น.</td>\n",
              "      <td>0</td>\n",
              "      <td>อาคารสำนักงาน ศาลาพักผ่อนหย่อนใจ ห้องน้ำ</td>\n",
              "      <td>ตู้ ปณ.3 ต.โนนหัน อ.ชุมแพ จ.ขอนแก่น 40290</td>\n",
              "      <td>ขอนแก่น</td>\n",
              "      <td>ชุมแพ</td>\n",
              "      <td>โนนหัน</td>\n",
              "      <td>ขอนแก่น</td>\n",
              "      <td>th-kk</td>\n",
              "      <td>2458854.0</td>\n",
              "      <td>2570011.0</td>\n",
              "      <td>2393512.0</td>\n",
              "      <td>2443631.0</td>\n",
              "      <td>2749436.0</td>\n",
              "      <td>3210374.0</td>\n",
              "      <td>3247176.0</td>\n",
              "      <td>3593042.0</td>\n",
              "      <td>3669884.0</td>\n",
              "      <td>3881646.0</td>\n",
              "      <td>4556656.0</td>\n",
              "      <td>5060143.0</td>\n",
              "      <td>5302795.0</td>\n",
              "    </tr>\n",
              "  </tbody>\n",
              "</table>\n",
              "</div>"
            ],
            "text/plain": [
              "                Type-TH  ...       2561\n",
              "39          สวนรุกขชาติ  ...  5302795.0\n",
              "40          สวนรุกขชาติ  ...  5302795.0\n",
              "71  ศูนย์กีฏวิทยาป่าไม้  ...  5302795.0\n",
              "\n",
              "[3 rows x 32 columns]"
            ]
          },
          "metadata": {
            "tags": []
          },
          "execution_count": 425
        }
      ]
    },
    {
      "cell_type": "code",
      "metadata": {
        "colab": {
          "base_uri": "https://localhost:8080/"
        },
        "id": "PL2x2eViFVet",
        "outputId": "f3b3b10f-3140-41d4-ff9b-b8745a169a8a"
      },
      "source": [
        "transacs_KK = KK.groupby('จังหวัด')['Type-TH'].apply(list)\n",
        "transacs_KK"
      ],
      "execution_count": 428,
      "outputs": [
        {
          "output_type": "execute_result",
          "data": {
            "text/plain": [
              "จังหวัด\n",
              "ขอนแก่น    [สวนรุกขชาติ, สวนรุกขชาติ, ศูนย์กีฏวิทยาป่าไม้]\n",
              "Name: Type-TH, dtype: object"
            ]
          },
          "metadata": {
            "tags": []
          },
          "execution_count": 428
        }
      ]
    },
    {
      "cell_type": "code",
      "metadata": {
        "colab": {
          "base_uri": "https://localhost:8080/"
        },
        "id": "X8rOCwP8FYoA",
        "outputId": "58764c53-7701-4040-9841-bfda2d122887"
      },
      "source": [
        "list(apriori(transacs_KK, min_support = 0.07 , min_confidence = 0.7))"
      ],
      "execution_count": 429,
      "outputs": [
        {
          "output_type": "execute_result",
          "data": {
            "text/plain": [
              "[RelationRecord(items=frozenset({'ศูนย์กีฏวิทยาป่าไม้'}), support=1.0, ordered_statistics=[OrderedStatistic(items_base=frozenset(), items_add=frozenset({'ศูนย์กีฏวิทยาป่าไม้'}), confidence=1.0, lift=1.0)]),\n",
              " RelationRecord(items=frozenset({'สวนรุกขชาติ'}), support=1.0, ordered_statistics=[OrderedStatistic(items_base=frozenset(), items_add=frozenset({'สวนรุกขชาติ'}), confidence=1.0, lift=1.0)]),\n",
              " RelationRecord(items=frozenset({'ศูนย์กีฏวิทยาป่าไม้', 'สวนรุกขชาติ'}), support=1.0, ordered_statistics=[OrderedStatistic(items_base=frozenset(), items_add=frozenset({'ศูนย์กีฏวิทยาป่าไม้', 'สวนรุกขชาติ'}), confidence=1.0, lift=1.0), OrderedStatistic(items_base=frozenset({'ศูนย์กีฏวิทยาป่าไม้'}), items_add=frozenset({'สวนรุกขชาติ'}), confidence=1.0, lift=1.0), OrderedStatistic(items_base=frozenset({'สวนรุกขชาติ'}), items_add=frozenset({'ศูนย์กีฏวิทยาป่าไม้'}), confidence=1.0, lift=1.0)])]"
            ]
          },
          "metadata": {
            "tags": []
          },
          "execution_count": 429
        }
      ]
    },
    {
      "cell_type": "markdown",
      "metadata": {
        "id": "KzXZW5OiRXt4"
      },
      "source": [
        "##นักท่องเที่ยวจังหวัดชลบุรีไปเที่ยวที่ไหนบ้าง"
      ]
    },
    {
      "cell_type": "code",
      "metadata": {
        "colab": {
          "base_uri": "https://localhost:8080/",
          "height": 367
        },
        "id": "2v50is0ZP0QM",
        "outputId": "de792bc7-7de7-4f3e-a285-f8646166696c"
      },
      "source": [
        "CB_table = merged_table['จังหวัด']=='ชลบุรี'\n",
        "CB = merged_table[CB_table]\n",
        "CB"
      ],
      "execution_count": 451,
      "outputs": [
        {
          "output_type": "execute_result",
          "data": {
            "text/html": [
              "<div>\n",
              "<style scoped>\n",
              "    .dataframe tbody tr th:only-of-type {\n",
              "        vertical-align: middle;\n",
              "    }\n",
              "\n",
              "    .dataframe tbody tr th {\n",
              "        vertical-align: top;\n",
              "    }\n",
              "\n",
              "    .dataframe thead th {\n",
              "        text-align: right;\n",
              "    }\n",
              "</style>\n",
              "<table border=\"1\" class=\"dataframe\">\n",
              "  <thead>\n",
              "    <tr style=\"text-align: right;\">\n",
              "      <th></th>\n",
              "      <th>Type-TH</th>\n",
              "      <th>Type-EN</th>\n",
              "      <th>SubType-TH</th>\n",
              "      <th>SubType-EN</th>\n",
              "      <th>Attraction-name TH</th>\n",
              "      <th>Attraction-name EN</th>\n",
              "      <th>Organization-Unit-TH</th>\n",
              "      <th>Organization-Unit-EN</th>\n",
              "      <th>Latitude</th>\n",
              "      <th>Longtiude</th>\n",
              "      <th>Open-Houre</th>\n",
              "      <th>Image-URL</th>\n",
              "      <th>Facility</th>\n",
              "      <th>Contact</th>\n",
              "      <th>Province</th>\n",
              "      <th>District</th>\n",
              "      <th>Subdistrict</th>\n",
              "      <th>จังหวัด</th>\n",
              "      <th>รหัสจังหวัด</th>\n",
              "      <th>2549</th>\n",
              "      <th>2550</th>\n",
              "      <th>2551</th>\n",
              "      <th>2552</th>\n",
              "      <th>2553</th>\n",
              "      <th>2554</th>\n",
              "      <th>2555</th>\n",
              "      <th>2556</th>\n",
              "      <th>2557</th>\n",
              "      <th>2558</th>\n",
              "      <th>2559</th>\n",
              "      <th>2560</th>\n",
              "      <th>2561</th>\n",
              "    </tr>\n",
              "  </thead>\n",
              "  <tbody>\n",
              "    <tr>\n",
              "      <th>22</th>\n",
              "      <td>สวนรุกขชาติ</td>\n",
              "      <td>Arboretum</td>\n",
              "      <td>สวนรุกขชาติหนองตาอยู่</td>\n",
              "      <td>Nongtayu Arboretum</td>\n",
              "      <td>สวนรุกขชาติหนองตาอยู่</td>\n",
              "      <td>Nongtayu Arboretum</td>\n",
              "      <td>สำนักวิจัยการอนุรักษ์ป่าไม้และพันธุ์พืช</td>\n",
              "      <td>Forest and Plant Conservation Reseach Office</td>\n",
              "      <td>13.157019</td>\n",
              "      <td>100.995907</td>\n",
              "      <td>08.00 - 17.00 น.</td>\n",
              "      <td>0</td>\n",
              "      <td>อาคารที่พักนักท่องเที่ยว ขนาด 8 คน (แบบอาคารชุ...</td>\n",
              "      <td>316/3 ม.6 ต.สุรศักดิ์ อ. ศรีราชา จ. ชลบุรี 201...</td>\n",
              "      <td>ชลบุรี</td>\n",
              "      <td>ศรีราชา</td>\n",
              "      <td>สุรศักดิ์</td>\n",
              "      <td>ชลบุรี</td>\n",
              "      <td>th-cb</td>\n",
              "      <td>7236704.0</td>\n",
              "      <td>7882541.0</td>\n",
              "      <td>7067325.0</td>\n",
              "      <td>5649895.0</td>\n",
              "      <td>10062286.0</td>\n",
              "      <td>10823369.0</td>\n",
              "      <td>11224397.0</td>\n",
              "      <td>11736488.0</td>\n",
              "      <td>10843412.0</td>\n",
              "      <td>11742224.0</td>\n",
              "      <td>16252009.0</td>\n",
              "      <td>17403161.0</td>\n",
              "      <td>18211539.0</td>\n",
              "    </tr>\n",
              "    <tr>\n",
              "      <th>73</th>\n",
              "      <td>สถานีเพาะเลี้ยงสัตว์ป่า</td>\n",
              "      <td>Wildlife  Breeding Station</td>\n",
              "      <td>ชมสัตว์</td>\n",
              "      <td>Watch wildlife</td>\n",
              "      <td>สถานีเพาะเลี้ยงสัตว์ป่าบางละมุง</td>\n",
              "      <td>Bang-lamung Wildlife  Breeding station</td>\n",
              "      <td>กลุ่มงานเพาะเลี้ยงสัตว์ป่า</td>\n",
              "      <td>wildlife breeding Division</td>\n",
              "      <td>12.77815706</td>\n",
              "      <td>100.972966</td>\n",
              "      <td>ตลอดทั้งปีเวลา 09.00 -16.00 น.</td>\n",
              "      <td>http://www.dnp.go.th/wildlife_it/WBS/Bang_Lamu...</td>\n",
              "      <td>-</td>\n",
              "      <td>087-1296112</td>\n",
              "      <td>ชลบุรี</td>\n",
              "      <td>บางละมุง</td>\n",
              "      <td>ห้วยใหญ่</td>\n",
              "      <td>ชลบุรี</td>\n",
              "      <td>th-cb</td>\n",
              "      <td>7236704.0</td>\n",
              "      <td>7882541.0</td>\n",
              "      <td>7067325.0</td>\n",
              "      <td>5649895.0</td>\n",
              "      <td>10062286.0</td>\n",
              "      <td>10823369.0</td>\n",
              "      <td>11224397.0</td>\n",
              "      <td>11736488.0</td>\n",
              "      <td>10843412.0</td>\n",
              "      <td>11742224.0</td>\n",
              "      <td>16252009.0</td>\n",
              "      <td>17403161.0</td>\n",
              "      <td>18211539.0</td>\n",
              "    </tr>\n",
              "  </tbody>\n",
              "</table>\n",
              "</div>"
            ],
            "text/plain": [
              "                    Type-TH                     Type-EN  ...        2560        2561\n",
              "22              สวนรุกขชาติ                   Arboretum  ...  17403161.0  18211539.0\n",
              "73  สถานีเพาะเลี้ยงสัตว์ป่า  Wildlife  Breeding Station  ...  17403161.0  18211539.0\n",
              "\n",
              "[2 rows x 32 columns]"
            ]
          },
          "metadata": {
            "tags": []
          },
          "execution_count": 451
        }
      ]
    },
    {
      "cell_type": "code",
      "metadata": {
        "colab": {
          "base_uri": "https://localhost:8080/"
        },
        "id": "y8oD7cuuQQwW",
        "outputId": "7ab549ee-7bda-480d-8ba2-1a7c1d419cef"
      },
      "source": [
        "transacs_CB = CB.groupby('จังหวัด')['Type-TH'].apply(list)\n",
        "transacs_CB"
      ],
      "execution_count": 452,
      "outputs": [
        {
          "output_type": "execute_result",
          "data": {
            "text/plain": [
              "จังหวัด\n",
              "ชลบุรี    [สวนรุกขชาติ, สถานีเพาะเลี้ยงสัตว์ป่า]\n",
              "Name: Type-TH, dtype: object"
            ]
          },
          "metadata": {
            "tags": []
          },
          "execution_count": 452
        }
      ]
    },
    {
      "cell_type": "code",
      "metadata": {
        "colab": {
          "base_uri": "https://localhost:8080/"
        },
        "id": "6_nw62P8QS03",
        "outputId": "fd474494-cc63-4c0c-fa8f-b4fda02e90f8"
      },
      "source": [
        "list(apriori(transacs_CB, min_support = 0.08, min_confidence = 0.1)) "
      ],
      "execution_count": 453,
      "outputs": [
        {
          "output_type": "execute_result",
          "data": {
            "text/plain": [
              "[RelationRecord(items=frozenset({'สถานีเพาะเลี้ยงสัตว์ป่า'}), support=1.0, ordered_statistics=[OrderedStatistic(items_base=frozenset(), items_add=frozenset({'สถานีเพาะเลี้ยงสัตว์ป่า'}), confidence=1.0, lift=1.0)]),\n",
              " RelationRecord(items=frozenset({'สวนรุกขชาติ'}), support=1.0, ordered_statistics=[OrderedStatistic(items_base=frozenset(), items_add=frozenset({'สวนรุกขชาติ'}), confidence=1.0, lift=1.0)]),\n",
              " RelationRecord(items=frozenset({'สวนรุกขชาติ', 'สถานีเพาะเลี้ยงสัตว์ป่า'}), support=1.0, ordered_statistics=[OrderedStatistic(items_base=frozenset(), items_add=frozenset({'สวนรุกขชาติ', 'สถานีเพาะเลี้ยงสัตว์ป่า'}), confidence=1.0, lift=1.0), OrderedStatistic(items_base=frozenset({'สถานีเพาะเลี้ยงสัตว์ป่า'}), items_add=frozenset({'สวนรุกขชาติ'}), confidence=1.0, lift=1.0), OrderedStatistic(items_base=frozenset({'สวนรุกขชาติ'}), items_add=frozenset({'สถานีเพาะเลี้ยงสัตว์ป่า'}), confidence=1.0, lift=1.0)])]"
            ]
          },
          "metadata": {
            "tags": []
          },
          "execution_count": 453
        }
      ]
    }
  ]
}